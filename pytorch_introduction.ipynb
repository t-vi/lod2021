{
 "cells": [
  {
   "cell_type": "markdown",
   "metadata": {
    "slideshow": {
     "slide_type": "slide"
    }
   },
   "source": [
    "# Introduction to\n",
    "![](pytorch-logo-dark.svg)\n",
    "## Thomas Viehmann, MathInf GmbH\n",
    "## [LOD 2021 Tutorial](https://lod2021.icas.cc/)"
   ]
  },
  {
   "cell_type": "code",
   "execution_count": 1,
   "metadata": {
    "slideshow": {
     "slide_type": "-"
    }
   },
   "outputs": [],
   "source": [
    "import torch"
   ]
  },
  {
   "cell_type": "markdown",
   "metadata": {
    "slideshow": {
     "slide_type": "skip"
    }
   },
   "source": [
    "These slides are (c) 2020 by MathInf GmbH except graphics with attribution (and the PyTorch logo above).\n",
    "\n",
    "Please use what you learn but don't just take my slides without asking. Thank you!\n",
    "\n",
    "Thanks to: Giuseppe Nicosia for the invitation and virtual hospitability. Piotr Bialecki for feedback on the draft of these slides and many interesting perspectives on PyTorch and teaching PyTorch. Luca Antiga made the autograd graphic for our book."
   ]
  },
  {
   "cell_type": "code",
   "execution_count": 2,
   "metadata": {
    "slideshow": {
     "slide_type": "skip"
    }
   },
   "outputs": [
    {
     "data": {
      "text/plain": [
       "'NVIDIA GeForce RTX 3090'"
      ]
     },
     "execution_count": 2,
     "metadata": {},
     "output_type": "execute_result"
    }
   ],
   "source": [
    "%matplotlib inline\n",
    "from matplotlib import pyplot\n",
    "import numpy\n",
    "\n",
    "assert torch.cuda.is_available(), \"Some examples need the GPU\"\n",
    "torch.cuda.get_device_name()"
   ]
  },
  {
   "cell_type": "markdown",
   "metadata": {
    "slideshow": {
     "slide_type": "slide"
    }
   },
   "source": [
    "# Hello\n",
    "\n",
    "I'm Thomas Viehmann.\n",
    "\n",
    "- In 2018 I founded MathInf GmbH, a boutique ML research and development consultancy & PyTorch training company\n",
    "- With &gt;150 patches I am one of the most prolific independent contributors to PyTorch.\n",
    "- With Eli Stevens and Luca Antiga, I wrote [Deep Learning with PyTorch](https://pytorch.org/deep-learning-with-pytorch).\n",
    "- I do some online course (advertised on my blog [lernapparat.de](https://lernapparat.de/)),\n",
    "- Background: PhD in pen and paper Mathematics, have been an Actuary & Consultant for 10 years, Debian Developer emeritus\n",
    "\n",
    "\n",
    "<img src=\"deep-learning-thumbnail.png\" width=200px style=\"width: 200px; float: right;\" />\n"
   ]
  },
  {
   "cell_type": "markdown",
   "metadata": {
    "slideshow": {
     "slide_type": "slide"
    }
   },
   "source": [
    "# Plan\n",
    "\n",
    "A mix of basic and advanced... but always practical!\n",
    "\n",
    "- Part I: What is PyTorch? - A guided quick tour\n",
    "- Part II: How can we make programs in PyTorch fast? - Model Optimization\n",
    "- Part III: After training our model, are we done? -\n",
    "     Aspects of deployment and the model lifecycle"
   ]
  },
  {
   "cell_type": "markdown",
   "metadata": {
    "slideshow": {
     "slide_type": "slide"
    }
   },
   "source": [
    "# Part I: What is PyTorch?\n",
    "### A guided quick tour\n",
    "\n",
    "  We take a tour of PyTorch, nominally from 0, but we put best practices and pitfalls into the spotlight.\n",
    "  - Tensors\n",
    "  - Functions\n",
    "  - **Autograd**\n",
    "  - Models\n",
    "  - Optimizers / Data\n",
    "  - Predefined models + Ecosystem\n",
    " \n",
    "  "
   ]
  },
  {
   "cell_type": "markdown",
   "metadata": {
    "slideshow": {
     "slide_type": "slide"
    }
   },
   "source": [
    "# Part II: How can we make programs in PyTorch fast?\n",
    "### Model optimization\n",
    "  - Efficient modelling\n",
    "  - Slow things and fast things in GPU computing\n",
    "  - Beyond the model\n",
    "  - Measuring in PyTorch (Benchmarking)\n",
    "  - Live speedup of a model\n",
    "  - Hard optimization and the JIT"
   ]
  },
  {
   "cell_type": "markdown",
   "metadata": {
    "slideshow": {
     "slide_type": "slide"
    }
   },
   "source": [
    "# Part III: After training our model, are we done?\n",
    "\n",
    "### Aspects of deployment and the model lifecycle\n",
    "\n",
    "  - The PyTorch JIT for export\n",
    "  - Keeping an eye on your model: Drift detection\n",
    "    - Why, what, how\n",
    "    - Better drift detection\n"
   ]
  },
  {
   "cell_type": "markdown",
   "metadata": {
    "slideshow": {
     "slide_type": "slide"
    }
   },
   "source": [
    "# PyTorch is ... Tensors\n",
    "\n",
    "At the heart of PyTorch is the Tensor data type. It is a multidimensional array.\n",
    "\n",
    "When we speak of the dimension of tensors, it is the number of axes (or, in PyTorch, dimensions) - so dimension is in the sense of arrays, not the mathematical one.\n",
    "\n",
    "Tensors can be 0d (i.e. scalars - single numbers), 1d (vectors), 2d (matrices), 3d..."
   ]
  },
  {
   "cell_type": "code",
   "execution_count": 3,
   "metadata": {},
   "outputs": [
    {
     "data": {
      "text/plain": [
       "tensor([[0.7071, 1.4142, 1.6180],\n",
       "        [0.8346, 2.7183, 3.1416]])"
      ]
     },
     "execution_count": 3,
     "metadata": {},
     "output_type": "execute_result"
    }
   ],
   "source": [
    "t = torch.tensor([[0.7071, 1.4142, 1.6180],\n",
    "                  [0.8346, 2.7183, 3.1416]])\n",
    "t"
   ]
  },
  {
   "cell_type": "markdown",
   "metadata": {
    "slideshow": {
     "slide_type": "slide"
    }
   },
   "source": [
    "## Tensors are arrays\n",
    "Tensors have a shape (the size of each dimension):\n"
   ]
  },
  {
   "cell_type": "code",
   "execution_count": 4,
   "metadata": {},
   "outputs": [
    {
     "data": {
      "text/plain": [
       "(2, torch.Size([2, 3]))"
      ]
     },
     "execution_count": 4,
     "metadata": {},
     "output_type": "execute_result"
    }
   ],
   "source": [
    "t.dim(), t.shape"
   ]
  },
  {
   "cell_type": "markdown",
   "metadata": {},
   "source": [
    "Indexing - also with assignments - works as expected. Use .item() to get numbers from tensors."
   ]
  },
  {
   "cell_type": "code",
   "execution_count": 5,
   "metadata": {},
   "outputs": [
    {
     "data": {
      "text/plain": [
       "tensor(3.1416)"
      ]
     },
     "execution_count": 5,
     "metadata": {},
     "output_type": "execute_result"
    }
   ],
   "source": [
    "t[1, 2]"
   ]
  },
  {
   "cell_type": "code",
   "execution_count": 6,
   "metadata": {},
   "outputs": [
    {
     "data": {
      "text/plain": [
       "(tensor([[0.7071, 1.4142, 1.6180],\n",
       "         [0.8346, 2.7183, 3.1416]]),\n",
       " 3.1415927410125732)"
      ]
     },
     "execution_count": 6,
     "metadata": {},
     "output_type": "execute_result"
    }
   ],
   "source": [
    "t[1, 2] = 3.141592653589793\n",
    "t, t[1, 2].item()"
   ]
  },
  {
   "cell_type": "markdown",
   "metadata": {
    "slideshow": {
     "slide_type": "slide"
    }
   },
   "source": [
    "\"Advanced indexing\" with masks also works"
   ]
  },
  {
   "cell_type": "code",
   "execution_count": 7,
   "metadata": {},
   "outputs": [
    {
     "data": {
      "text/plain": [
       "tensor([[0.0000, 1.4142, 1.6180],\n",
       "        [0.0000, 2.7183, 3.1416]])"
      ]
     },
     "execution_count": 7,
     "metadata": {},
     "output_type": "execute_result"
    }
   ],
   "source": [
    "t[t < 1] = 0\n",
    "t"
   ]
  },
  {
   "cell_type": "markdown",
   "metadata": {
    "slideshow": {
     "slide_type": "-"
    }
   },
   "source": [
    "so does slicing"
   ]
  },
  {
   "cell_type": "code",
   "execution_count": 8,
   "metadata": {},
   "outputs": [
    {
     "data": {
      "text/plain": [
       "(tensor([[1.4142, 1.6180],\n",
       "         [2.7183, 3.1416]]),\n",
       " tensor([[0.0000, 1.6180],\n",
       "         [0.0000, 3.1416]]),\n",
       " tensor([3.1416]))"
      ]
     },
     "execution_count": 8,
     "metadata": {},
     "output_type": "execute_result"
    }
   ],
   "source": [
    "t[:, 1:], t[:, ::2], t[1, 2, None]"
   ]
  },
  {
   "cell_type": "markdown",
   "metadata": {
    "slideshow": {
     "slide_type": "slide"
    }
   },
   "source": [
    "Tensors always hold elements (numbers) of a given scalar type, the \"data type\" or dtype.\n",
    "For PyTorch (with its GPU focus), `float32` is perhaps the most common dtype.\n",
    "Apropos GPU, they do have a device."
   ]
  },
  {
   "cell_type": "code",
   "execution_count": 9,
   "metadata": {},
   "outputs": [
    {
     "data": {
      "text/plain": [
       "(torch.float32, device(type='cpu'))"
      ]
     },
     "execution_count": 9,
     "metadata": {},
     "output_type": "execute_result"
    }
   ],
   "source": [
    "t.dtype, t.device"
   ]
  },
  {
   "cell_type": "markdown",
   "metadata": {},
   "source": [
    "We can move between devices and convert between dtypes."
   ]
  },
  {
   "cell_type": "code",
   "execution_count": 10,
   "metadata": {},
   "outputs": [
    {
     "data": {
      "text/plain": [
       "tensor([[0.0000, 1.4142, 1.6180],\n",
       "        [0.0000, 2.7183, 3.1416]], device='cuda:0', dtype=torch.float64)"
      ]
     },
     "execution_count": 10,
     "metadata": {},
     "output_type": "execute_result"
    }
   ],
   "source": [
    "t.to(dtype=torch.float64, device=\"cuda\")  # if we have a GPU"
   ]
  },
  {
   "cell_type": "markdown",
   "metadata": {
    "slideshow": {
     "slide_type": "slide"
    }
   },
   "source": [
    "## Tensors - a scenic view of memory blobs\n",
    "\n",
    "Internally, Tensors are stored as a blob of memory"
   ]
  },
  {
   "cell_type": "code",
   "execution_count": 11,
   "metadata": {},
   "outputs": [
    {
     "data": {
      "text/plain": [
       " 0.0\n",
       " 1.414199948310852\n",
       " 1.6180000305175781\n",
       " 0.0\n",
       " 2.7183001041412354\n",
       " 3.1415927410125732\n",
       "[torch.FloatStorage of size 6]"
      ]
     },
     "execution_count": 11,
     "metadata": {},
     "output_type": "execute_result"
    }
   ],
   "source": [
    "t.storage()"
   ]
  },
  {
   "cell_type": "code",
   "execution_count": 12,
   "metadata": {},
   "outputs": [
    {
     "data": {
      "text/plain": [
       "((3, 1), torch.Size([2, 3]), 0, 99365120)"
      ]
     },
     "execution_count": 12,
     "metadata": {},
     "output_type": "execute_result"
    }
   ],
   "source": [
    "t.stride(), t.shape, t.storage_offset(), t.data_ptr()"
   ]
  },
  {
   "cell_type": "code",
   "execution_count": 13,
   "metadata": {},
   "outputs": [
    {
     "data": {
      "text/plain": [
       "tensor([[0.0000, 1.4142, 1.6180],\n",
       "        [0.0000, 2.7183, 3.1416]])"
      ]
     },
     "execution_count": 13,
     "metadata": {},
     "output_type": "execute_result"
    }
   ],
   "source": [
    "t"
   ]
  },
  {
   "cell_type": "markdown",
   "metadata": {
    "slideshow": {
     "slide_type": "slide"
    }
   },
   "source": [
    "Indexing and Slicing (and taking Diagonals, too) do *not* copy, but create views:"
   ]
  },
  {
   "cell_type": "code",
   "execution_count": 14,
   "metadata": {},
   "outputs": [],
   "source": [
    "v = t[:, 2:]"
   ]
  },
  {
   "cell_type": "code",
   "execution_count": 15,
   "metadata": {},
   "outputs": [
    {
     "data": {
      "text/plain": [
       "((3, 1), torch.Size([2, 1]), 2, 99365128, 99365120)"
      ]
     },
     "execution_count": 15,
     "metadata": {},
     "output_type": "execute_result"
    }
   ],
   "source": [
    "v.stride(), v.shape, v.storage_offset(), v.data_ptr(), v.storage().data_ptr() "
   ]
  },
  {
   "cell_type": "code",
   "execution_count": 16,
   "metadata": {},
   "outputs": [
    {
     "data": {
      "text/plain": [
       "(tensor([[1.6180],\n",
       "         [3.1416]]),\n",
       "  0.0\n",
       "  1.414199948310852\n",
       "  1.6180000305175781\n",
       "  0.0\n",
       "  2.7183001041412354\n",
       "  3.1415927410125732\n",
       " [torch.FloatStorage of size 6])"
      ]
     },
     "execution_count": 16,
     "metadata": {},
     "output_type": "execute_result"
    }
   ],
   "source": [
    "v, v.storage()"
   ]
  },
  {
   "cell_type": "markdown",
   "metadata": {},
   "source": [
    "(`data_ptr` already subsumes the storage offset...)"
   ]
  },
  {
   "cell_type": "markdown",
   "metadata": {
    "slideshow": {
     "slide_type": "slide"
    }
   },
   "source": [
    "## Generalized tensors are tensors, too.\n",
    "\n",
    "- These were strided tensors\n",
    "- There are other Tensor types: Sparse, on TPU,...\n",
    "- Quantized is a bit special, but similar in spirit."
   ]
  },
  {
   "cell_type": "code",
   "execution_count": 17,
   "metadata": {},
   "outputs": [
    {
     "data": {
      "text/plain": [
       "torch.strided"
      ]
     },
     "execution_count": 17,
     "metadata": {},
     "output_type": "execute_result"
    }
   ],
   "source": [
    "t.layout"
   ]
  },
  {
   "cell_type": "code",
   "execution_count": 18,
   "metadata": {},
   "outputs": [
    {
     "data": {
      "text/plain": [
       "(tensor(indices=tensor([[0, 1, 2, 3, 4, 5, 6, 7, 8, 9]]),\n",
       "        values=tensor([-0.5283,  0.4430,  0.5310, -1.0570,  0.2895, -1.0272,\n",
       "                        1.1280,  0.6830, -0.0562,  0.8406]),\n",
       "        size=(10,), nnz=10, layout=torch.sparse_coo),\n",
       " torch.sparse_coo)"
      ]
     },
     "execution_count": 18,
     "metadata": {},
     "output_type": "execute_result"
    }
   ],
   "source": [
    "s = torch.sparse_coo_tensor(torch.arange(10)[None], torch.randn(10))\n",
    "s, s.layout"
   ]
  },
  {
   "cell_type": "markdown",
   "metadata": {
    "slideshow": {
     "slide_type": "slide"
    }
   },
   "source": [
    "## Where to get Tensors?\n",
    "\n",
    "PyTorch has ~90 factory functions:\n",
    "\n",
    "- torch.tensor, torch.sparse_coo_tensor\n",
    "\n",
    "- torch.zeros, ones, randn, ...\n",
    "\n",
    "- torch.zeros_like, ones_like, randn_like, ...\n",
    "\n",
    "Conversion to and from Numpy works without copying (there also is `torch.utils.dlpack` for a similar effect with GPU tensors)"
   ]
  },
  {
   "cell_type": "code",
   "execution_count": 19,
   "metadata": {},
   "outputs": [
    {
     "data": {
      "text/plain": [
       "True"
      ]
     },
     "execution_count": 19,
     "metadata": {},
     "output_type": "execute_result"
    }
   ],
   "source": [
    "a = t.numpy()\n",
    "t2 = torch.from_numpy(a)\n",
    "t2.data_ptr() == t.data_ptr()"
   ]
  },
  {
   "cell_type": "markdown",
   "metadata": {},
   "source": [
    "Careful: Numpy uses a dtype of float64 by default, PyTorch float32 (as you typically want that for GPUs)\n",
    "\n",
    "Sometimes you see FloatTensor, .data, ... in old code or copied from old code. Don't do that.\n",
    "\n",
    "There also are `torch.utils.dlpack.to_dlpack` / `from_dlpack` for interchange with GPU tensors."
   ]
  },
  {
   "cell_type": "markdown",
   "metadata": {
    "slideshow": {
     "slide_type": "slide"
    }
   },
   "source": [
    "### Saving and loading tensors\n",
    "\n",
    "Saving and loading tensors and dicts, lists of them (and other types) can be done though `torch.save` and `torch.load`. Optionally, you can specify where the tensors should be loaded to (the default is to put GPU tensors back on the GPU)."
   ]
  },
  {
   "cell_type": "code",
   "execution_count": 20,
   "metadata": {},
   "outputs": [
    {
     "data": {
      "text/plain": [
       "tensor([[0.0000, 1.4142, 1.6180],\n",
       "        [0.0000, 2.7183, 3.1416]])"
      ]
     },
     "execution_count": 20,
     "metadata": {},
     "output_type": "execute_result"
    }
   ],
   "source": [
    "torch.save(t, 'my-tensor.pt')\n",
    "torch.load('my-tensor.pt', map_location=\"cpu\")"
   ]
  },
  {
   "cell_type": "markdown",
   "metadata": {
    "slideshow": {
     "slide_type": "-"
    }
   },
   "source": [
    "**Style advice**: Do use `.pt` as an extension, not `.pth` or anything else (`pth` collides with Python \"path\" files)."
   ]
  },
  {
   "cell_type": "markdown",
   "metadata": {
    "slideshow": {
     "slide_type": "slide"
    }
   },
   "source": [
    "# PyTorch is ... operations on tensors\n",
    "\n",
    "PyTorch mostly follows numpy in naming. Most things are available as methods (`t.tanh()`) and functions (`torch.tanh(t)`). More neural-network specific things are in `torch.nn.functional`.\n",
    "\n",
    "I'm not going to list them, but generally we follow NumPy naming, the [documentation](https://pytorch.org/docs/) has all the details."
   ]
  },
  {
   "cell_type": "code",
   "execution_count": 21,
   "metadata": {},
   "outputs": [
    {
     "data": {
      "text/plain": [
       "(tensor([[0.0000, 0.8884, 0.9243],\n",
       "         [0.0000, 0.9913, 0.9963]]),\n",
       " tensor([[0.0000, 0.8884, 0.9243],\n",
       "         [0.0000, 0.9913, 0.9963]]))"
      ]
     },
     "execution_count": 21,
     "metadata": {},
     "output_type": "execute_result"
    }
   ],
   "source": [
    "t.tanh(), torch.tanh(t)"
   ]
  },
  {
   "cell_type": "markdown",
   "metadata": {
    "slideshow": {
     "slide_type": "slide"
    }
   },
   "source": [
    "Inplace operations are signaled by a trailing underscore `_`."
   ]
  },
  {
   "cell_type": "code",
   "execution_count": 22,
   "metadata": {
    "slideshow": {
     "slide_type": "-"
    }
   },
   "outputs": [
    {
     "data": {
      "text/plain": [
       "tensor([[-0.7156,  0.6660, -0.3969,  0.7263, -0.5892],\n",
       "        [-0.1670,  0.8236,  0.0158, -0.4610,  0.6732],\n",
       "        [ 0.8942, -0.0725, -0.3623,  0.9110, -0.8333],\n",
       "        [-0.0252,  0.4489, -0.6231,  0.5585,  0.8250],\n",
       "        [ 0.4238,  0.8421, -0.6662, -0.5534,  0.4282]])"
      ]
     },
     "execution_count": 22,
     "metadata": {},
     "output_type": "execute_result"
    }
   ],
   "source": [
    "z = torch.randn(5, 5)\n",
    "z.tanh_()\n",
    "z\n"
   ]
  },
  {
   "cell_type": "markdown",
   "metadata": {
    "slideshow": {
     "slide_type": "slide"
    }
   },
   "source": [
    "The `torch.nn.functional` namespace (sometimes mapped to `F.`) contains functions that are more neural-network related.\n"
   ]
  },
  {
   "cell_type": "code",
   "execution_count": 23,
   "metadata": {
    "slideshow": {
     "slide_type": "-"
    }
   },
   "outputs": [
    {
     "data": {
      "text/plain": [
       "tensor([[-0.8668, -1.0281,  2.1666, -1.0091,  1.6341,  0.2331,  4.0137, -4.1339,\n",
       "          0.8154, -0.2092],\n",
       "        [-0.1300, -1.7957,  3.0111, -1.2490, -1.0192,  2.6302, -1.8312, -1.9049,\n",
       "          0.3584, -1.0503]])"
      ]
     },
     "execution_count": 23,
     "metadata": {},
     "output_type": "execute_result"
    }
   ],
   "source": [
    "w = torch.randn(10, 5)\n",
    "i = torch.randn(2, 5)\n",
    "torch.nn.functional.linear(i, w)"
   ]
  },
  {
   "cell_type": "markdown",
   "metadata": {
    "slideshow": {
     "slide_type": "slide"
    }
   },
   "source": [
    "# PyTorch is ... autograd\n",
    "\n",
    "PyTorch has a backpropagation-based autograd mechanism. It computes the gradient of *scalar* functions (and, by proxy of Jacobian-Vector products) at the point where is was evaluated. (Image from Deep Learning with PyTorch)\n",
    "\n",
    "<img src='backprop.png' style='width: 100%' />"
   ]
  },
  {
   "cell_type": "markdown",
   "metadata": {
    "slideshow": {
     "slide_type": "slide"
    }
   },
   "source": [
    "## Autograd in action"
   ]
  },
  {
   "cell_type": "code",
   "execution_count": 25,
   "metadata": {},
   "outputs": [],
   "source": [
    "x = torch.linspace(-3, 3, 50, requires_grad=True)\n",
    "y = torch.linspace(-3, 3, 50, requires_grad=True)\n",
    "\n",
    "f = 10 * torch.sin(y)**2 + torch.tanh(x)\n",
    "gr_x, gr_y = torch.autograd.grad(f.sum(), [x,y]) # gr always returns a list of gradients\n"
   ]
  },
  {
   "cell_type": "code",
   "execution_count": 26,
   "metadata": {
    "scrolled": true
   },
   "outputs": [
    {
     "ename": "NameError",
     "evalue": "name 'gr' is not defined",
     "output_type": "error",
     "traceback": [
      "\u001b[0;31m---------------------------------------------------------------------------\u001b[0m",
      "\u001b[0;31mNameError\u001b[0m                                 Traceback (most recent call last)",
      "\u001b[0;32m<ipython-input-26-2eb37d8fb048>\u001b[0m in \u001b[0;36m<module>\u001b[0;34m\u001b[0m\n\u001b[1;32m      3\u001b[0m \u001b[0mpyplot\u001b[0m\u001b[0;34m.\u001b[0m\u001b[0mplot\u001b[0m\u001b[0;34m(\u001b[0m\u001b[0mx\u001b[0m\u001b[0;34m.\u001b[0m\u001b[0mdetach\u001b[0m\u001b[0;34m(\u001b[0m\u001b[0;34m)\u001b[0m\u001b[0;34m.\u001b[0m\u001b[0mnumpy\u001b[0m\u001b[0;34m(\u001b[0m\u001b[0;34m)\u001b[0m\u001b[0;34m,\u001b[0m \u001b[0mf\u001b[0m\u001b[0;34m.\u001b[0m\u001b[0mdetach\u001b[0m\u001b[0;34m(\u001b[0m\u001b[0;34m)\u001b[0m\u001b[0;34m.\u001b[0m\u001b[0mnumpy\u001b[0m\u001b[0;34m(\u001b[0m\u001b[0;34m)\u001b[0m\u001b[0;34m,\u001b[0m \u001b[0;34m'--'\u001b[0m\u001b[0;34m)\u001b[0m\u001b[0;34m\u001b[0m\u001b[0;34m\u001b[0m\u001b[0m\n\u001b[1;32m      4\u001b[0m \u001b[0mdelta\u001b[0m \u001b[0;34m=\u001b[0m \u001b[0;36m0.2\u001b[0m\u001b[0;34m\u001b[0m\u001b[0;34m\u001b[0m\u001b[0m\n\u001b[0;32m----> 5\u001b[0;31m \u001b[0;32mfor\u001b[0m \u001b[0mxi\u001b[0m\u001b[0;34m,\u001b[0m \u001b[0mfi\u001b[0m\u001b[0;34m,\u001b[0m \u001b[0mgi\u001b[0m \u001b[0;32min\u001b[0m \u001b[0mzip\u001b[0m\u001b[0;34m(\u001b[0m\u001b[0mx\u001b[0m\u001b[0;34m[\u001b[0m\u001b[0;34m:\u001b[0m\u001b[0;34m:\u001b[0m\u001b[0;36m10\u001b[0m\u001b[0;34m]\u001b[0m\u001b[0;34m.\u001b[0m\u001b[0mtolist\u001b[0m\u001b[0;34m(\u001b[0m\u001b[0;34m)\u001b[0m\u001b[0;34m,\u001b[0m \u001b[0mf\u001b[0m\u001b[0;34m[\u001b[0m\u001b[0;34m:\u001b[0m\u001b[0;34m:\u001b[0m\u001b[0;36m10\u001b[0m\u001b[0;34m]\u001b[0m\u001b[0;34m.\u001b[0m\u001b[0mtolist\u001b[0m\u001b[0;34m(\u001b[0m\u001b[0;34m)\u001b[0m\u001b[0;34m,\u001b[0m \u001b[0mgr\u001b[0m\u001b[0;34m[\u001b[0m\u001b[0;34m:\u001b[0m\u001b[0;34m:\u001b[0m\u001b[0;36m10\u001b[0m\u001b[0;34m]\u001b[0m\u001b[0;34m.\u001b[0m\u001b[0mtolist\u001b[0m\u001b[0;34m(\u001b[0m\u001b[0;34m)\u001b[0m\u001b[0;34m)\u001b[0m\u001b[0;34m:\u001b[0m\u001b[0;34m\u001b[0m\u001b[0;34m\u001b[0m\u001b[0m\n\u001b[0m\u001b[1;32m      6\u001b[0m     \u001b[0mpyplot\u001b[0m\u001b[0;34m.\u001b[0m\u001b[0mplot\u001b[0m\u001b[0;34m(\u001b[0m\u001b[0;34m[\u001b[0m\u001b[0mxi\u001b[0m\u001b[0;34m-\u001b[0m\u001b[0mdelta\u001b[0m\u001b[0;34m,\u001b[0m \u001b[0mxi\u001b[0m\u001b[0;34m+\u001b[0m\u001b[0mdelta\u001b[0m\u001b[0;34m]\u001b[0m\u001b[0;34m,\u001b[0m \u001b[0;34m[\u001b[0m\u001b[0mfi\u001b[0m\u001b[0;34m-\u001b[0m\u001b[0mdelta\u001b[0m\u001b[0;34m*\u001b[0m\u001b[0mgi\u001b[0m\u001b[0;34m,\u001b[0m \u001b[0mfi\u001b[0m\u001b[0;34m+\u001b[0m\u001b[0mdelta\u001b[0m\u001b[0;34m*\u001b[0m\u001b[0mgi\u001b[0m\u001b[0;34m]\u001b[0m\u001b[0;34m)\u001b[0m \u001b[0;31m# tangents at every 10th point\u001b[0m\u001b[0;34m\u001b[0m\u001b[0;34m\u001b[0m\u001b[0m\n",
      "\u001b[0;31mNameError\u001b[0m: name 'gr' is not defined"
     ]
    },
    {
     "data": {
      "image/png": "[encoded data removed]",
      "text/plain": [
       "<Figure size 432x288 with 1 Axes>"
      ]
     },
     "metadata": {
      "needs_background": "light"
     },
     "output_type": "display_data"
    }
   ],
   "source": [
    "%matplotlib inline\n",
    "from matplotlib import pyplot\n",
    "pyplot.plot(x.detach().numpy(), f.detach().numpy(), '--')\n",
    "delta = 0.2\n",
    "for xi, fi, gi in zip(x[::10].tolist(), f[::10].tolist(), gr[::10].tolist()):\n",
    "    pyplot.plot([xi-delta, xi+delta], [fi-delta*gi, fi+delta*gi]) # tangents at every 10th point"
   ]
  },
  {
   "cell_type": "markdown",
   "metadata": {
    "slideshow": {
     "slide_type": "slide"
    }
   },
   "source": [
    "A mickey mouse example of optimizing a model (actually 100 times, starting from random initializations).\n",
    "\n",
    "- We have 100 mini batches à 10 items.\n",
    "- Each is, for a (normally) random $x$ the value $f(x) = \\sin(2x)$.\n",
    "- This we approximate by a 2-layer network with 10 hidden units. Our loss is the squared euclidean distance.\n",
    "- By trying various starting values, we represent the uncertainty coming from the random initializaiton of the weights (of course, we would expect that to go away with more iterations)."
   ]
  },
  {
   "cell_type": "code",
   "execution_count": 27,
   "metadata": {
    "slideshow": {
     "slide_type": "slide"
    }
   },
   "outputs": [
    {
     "name": "stderr",
     "output_type": "stream",
     "text": [
      "<ipython-input-27-4c8c223fb653>:24: UserWarning: Not providing a value for linspace's steps is deprecated and will throw a runtime error in a future release. This warning will appear only once per process. (Triggered internally at  /home/tv/pytorch/pytorch/aten/src/ATen/native/RangeFactories.cpp:20.)\n",
      "  x0 = torch.linspace(-2, 2)\n"
     ]
    },
    {
     "data": {
      "text/plain": [
       "torch.Size([100, 100])"
      ]
     },
     "execution_count": 27,
     "metadata": {},
     "output_type": "execute_result"
    }
   ],
   "source": [
    "final_preds = []\n",
    "for no in range(100):   # 100 experiments\n",
    "    w1 = torch.randn(1, 10, requires_grad=True)   # initialise random paramters\n",
    "    b1 = torch.randn(10, requires_grad=True)\n",
    "    w2 = torch.randn(10, 1, requires_grad=True)\n",
    "    b2 = torch.randn(1, requires_grad=True)\n",
    "    params = [w1, b1, w2, b2]\n",
    "\n",
    "    for i in range(100):  # fitting 100 minibatches\n",
    "        x = torch.randn(10, 1)   # input value\n",
    "        target = torch.sin(2 * x)   # target value (usually from dataset)\n",
    "\n",
    "        pred = torch.tanh(x @ w1 + b1) @ w2 + b2   # our model\n",
    "\n",
    "        loss = ((pred - target) ** 2).sum()\n",
    "\n",
    "        grads = torch.autograd.grad(loss, params)\n",
    "\n",
    "        for p, g in zip(params, grads):\n",
    "            with torch.no_grad():\n",
    "                p -= 1e-2 * g\n",
    "\n",
    "    with torch.no_grad(): # no gradients here...\n",
    "        x0 = torch.linspace(-2, 2)\n",
    "        final_preds.append(torch.tanh(x0[:, None] @ w1 + b1) @ w2 + b2)\n",
    "\n",
    "final_preds = torch.cat(final_preds, dim=1)\n",
    "final_preds.shape"
   ]
  },
  {
   "cell_type": "code",
   "execution_count": 28,
   "metadata": {
    "slideshow": {
     "slide_type": "slide"
    }
   },
   "outputs": [
    {
     "data": {
      "text/plain": [
       "[<matplotlib.lines.Line2D at 0x7f3a2c56c0d0>]"
      ]
     },
     "execution_count": 28,
     "metadata": {},
     "output_type": "execute_result"
    },
    {
     "data": {
      "image/png": "[encoded data removed]",
      "text/plain": [
       "<Figure size 432x288 with 1 Axes>"
      ]
     },
     "metadata": {
      "needs_background": "light"
     },
     "output_type": "display_data"
    }
   ],
   "source": [
    "x0 = torch.linspace(-2, 2)\n",
    "pyplot.plot(x0, final_preds, alpha=0.3)\n",
    "pyplot.plot(x0, torch.sin(2 * x0), linewidth=5)"
   ]
  },
  {
   "cell_type": "code",
   "execution_count": 29,
   "metadata": {
    "slideshow": {
     "slide_type": "slide"
    }
   },
   "outputs": [
    {
     "data": {
      "text/plain": [
       "<matplotlib.legend.Legend at 0x7f3a2c4c6250>"
      ]
     },
     "execution_count": 29,
     "metadata": {},
     "output_type": "execute_result"
    },
    {
     "data": {
      "image/png": "[encoded data removed]",
      "text/plain": [
       "<Figure size 432x288 with 1 Axes>"
      ]
     },
     "metadata": {
      "needs_background": "light"
     },
     "output_type": "display_data"
    }
   ],
   "source": [
    "pyplot.plot(x0, final_preds.mean(1), label='estimate')\n",
    "pyplot.plot(x0, torch.sin(2 * x0), label='true')\n",
    "pyplot.fill_between(x0, numpy.percentile(final_preds, 2.5, axis=1), numpy.percentile(final_preds, 97.5, axis=1),\n",
    "                   color='lightgray')\n",
    "pyplot.legend()"
   ]
  },
  {
   "cell_type": "markdown",
   "metadata": {
    "slideshow": {
     "slide_type": "slide"
    }
   },
   "source": [
    "## Leaves, intermediates, inplace and ...\n",
    "\n",
    "There roughly are these types of tensors from an autograd perspective:\n",
    "\n",
    "- \"Plain\" tensors, not requiring gradients (in particular all integral tensors).\n",
    "- Leaves are the initial tensors requiring grad, from the factory functions or by taking a non-grad-requiring tensor and saying `t.requires_grad_()`.\n",
    "- Computed tensors where an input requires gradients will, in general, require gradient.\n",
    "- \"views\", tensors sharing memory, are special."
   ]
  },
  {
   "cell_type": "markdown",
   "metadata": {
    "slideshow": {
     "slide_type": "slide"
    }
   },
   "source": [
    "Let's look at this in some detail."
   ]
  },
  {
   "cell_type": "code",
   "execution_count": 30,
   "metadata": {
    "slideshow": {
     "slide_type": "skip"
    }
   },
   "outputs": [],
   "source": [
    "import graphviz\n",
    "import warnings\n",
    "def ptgraph(tensors=None):\n",
    "    g = graphviz.Digraph()\n",
    "    with warnings.catch_warnings():\n",
    "        warnings.filterwarnings('ignore')\n",
    "        names = {v:k for k,v in globals().items() if isinstance(v, torch.Tensor) and not k.startswith('_')}\n",
    "        for n, m in globals().items():\n",
    "            if isinstance(m, torch.nn.Module) and not n.startswith('_'):            \n",
    "                names.update({p: n+':'+np for np, p in m.named_parameters()})\n",
    "        new_names = names\n",
    "        while new_names:\n",
    "            new_names = {k.grad: v+'.grad' for k, v in new_names.items() if k.grad is not None}\n",
    "            names.update(new_names)\n",
    "        known_gradfns = {k.grad_fn: k for k,v in names.items() if k.grad_fn is not None}\n",
    "    seen = set()\n",
    "    def traverse_node(node):\n",
    "        node = known_gradfns.get(node, node)\n",
    "        node_id = str(hash(node))\n",
    "        nodename = node.__class__.__name__\n",
    "        if isinstance(node, torch.Tensor) and node in names:\n",
    "            nodename = names[node]\n",
    "            if node.grad_fn is None:\n",
    "                g.node(node_id, nodename)\n",
    "                return node_id\n",
    "            node = node.grad_fn\n",
    "            nodename = f'{nodename} ({node.__class__.__name__})'\n",
    "        if hasattr(node, 'variable'):\n",
    "            v = node.variable\n",
    "            vn = names.get(v)\n",
    "            node_id = str(hash(v))\n",
    "            if vn is not None:\n",
    "                nodename = f'{vn} ({nodename})'\n",
    "        g.node(node_id, nodename)\n",
    "        if node in seen:\n",
    "            return node_id\n",
    "        seen.add(node)\n",
    "        for n ,p in node.next_functions:\n",
    "            if n is not None:\n",
    "                other_id = traverse_node(n)\n",
    "                g.edge(other_id, node_id)\n",
    "        return node_id\n",
    "    if tensors is None:\n",
    "        tensors = names.keys()\n",
    "    elif not isinstance(tensors, (list, tuple)):\n",
    "        tensors = [tensors]\n",
    "    for t in tensors:\n",
    "        other_id = traverse_node(t)\n",
    "    return g"
   ]
  },
  {
   "cell_type": "code",
   "execution_count": 31,
   "metadata": {
    "slideshow": {
     "slide_type": "-"
    }
   },
   "outputs": [
    {
     "data": {
      "image/svg+xml": [
       "<?xml version=\"1.0\" encoding=\"UTF-8\" standalone=\"no\"?>\n",
       "<!DOCTYPE svg PUBLIC \"-//W3C//DTD SVG 1.1//EN\"\n",
       " \"http://www.w3.org/Graphics/SVG/1.1/DTD/svg11.dtd\">\n",
       "<!-- Generated by graphviz version 2.43.0 (0)\n",
       " -->\n",
       "<!-- Title: %3 Pages: 1 -->\n",
       "<svg width=\"416pt\" height=\"188pt\"\n",
       " viewBox=\"0.00 0.00 416.03 188.00\" xmlns=\"http://www.w3.org/2000/svg\" xmlns:xlink=\"http://www.w3.org/1999/xlink\">\n",
       "<g id=\"graph0\" class=\"graph\" transform=\"scale(1 1) rotate(0) translate(4 184)\">\n",
       "<title>%3</title>\n",
       "<polygon fill=\"white\" stroke=\"transparent\" points=\"-4,4 -4,-184 412.03,-184 412.03,4 -4,4\"/>\n",
       "<!-- 139887827511952 -->\n",
       "<g id=\"node1\" class=\"node\">\n",
       "<title>139887827511952</title>\n",
       "<ellipse fill=\"none\" stroke=\"black\" cx=\"203.69\" cy=\"-18\" rx=\"94.78\" ry=\"18\"/>\n",
       "<text text-anchor=\"middle\" x=\"203.69\" y=\"-14.3\" font-family=\"Times,serif\" font-size=\"14.00\">c (MulBackward0)</text>\n",
       "</g>\n",
       "<!-- 8742989221807 -->\n",
       "<g id=\"node2\" class=\"node\">\n",
       "<title>8742989221807</title>\n",
       "<ellipse fill=\"none\" stroke=\"black\" cx=\"102.69\" cy=\"-90\" rx=\"80.69\" ry=\"18\"/>\n",
       "<text text-anchor=\"middle\" x=\"102.69\" y=\"-86.3\" font-family=\"Times,serif\" font-size=\"14.00\">AddBackward0</text>\n",
       "</g>\n",
       "<!-- 8742989221807&#45;&gt;139887827511952 -->\n",
       "<g id=\"edge2\" class=\"edge\">\n",
       "<title>8742989221807&#45;&gt;139887827511952</title>\n",
       "<path fill=\"none\" stroke=\"black\" d=\"M126.12,-72.76C139.56,-63.45 156.64,-51.61 171.35,-41.41\"/>\n",
       "<polygon fill=\"black\" stroke=\"black\" points=\"173.47,-44.21 179.69,-35.63 169.48,-38.45 173.47,-44.21\"/>\n",
       "</g>\n",
       "<!-- 139887827510112 -->\n",
       "<g id=\"node3\" class=\"node\">\n",
       "<title>139887827510112</title>\n",
       "<ellipse fill=\"none\" stroke=\"black\" cx=\"102.69\" cy=\"-162\" rx=\"102.88\" ry=\"18\"/>\n",
       "<text text-anchor=\"middle\" x=\"102.69\" y=\"-158.3\" font-family=\"Times,serif\" font-size=\"14.00\">a (AccumulateGrad)</text>\n",
       "</g>\n",
       "<!-- 139887827510112&#45;&gt;8742989221807 -->\n",
       "<g id=\"edge1\" class=\"edge\">\n",
       "<title>139887827510112&#45;&gt;8742989221807</title>\n",
       "<path fill=\"none\" stroke=\"black\" d=\"M102.69,-143.7C102.69,-135.98 102.69,-126.71 102.69,-118.11\"/>\n",
       "<polygon fill=\"black\" stroke=\"black\" points=\"106.19,-118.1 102.69,-108.1 99.19,-118.1 106.19,-118.1\"/>\n",
       "</g>\n",
       "<!-- 139887827512912 -->\n",
       "<g id=\"node4\" class=\"node\">\n",
       "<title>139887827512912</title>\n",
       "<ellipse fill=\"none\" stroke=\"black\" cx=\"304.69\" cy=\"-90\" rx=\"103.18\" ry=\"18\"/>\n",
       "<text text-anchor=\"middle\" x=\"304.69\" y=\"-86.3\" font-family=\"Times,serif\" font-size=\"14.00\">b (AccumulateGrad)</text>\n",
       "</g>\n",
       "<!-- 139887827512912&#45;&gt;139887827511952 -->\n",
       "<g id=\"edge3\" class=\"edge\">\n",
       "<title>139887827512912&#45;&gt;139887827511952</title>\n",
       "<path fill=\"none\" stroke=\"black\" d=\"M280.76,-72.41C267.3,-63.08 250.32,-51.32 235.73,-41.2\"/>\n",
       "<polygon fill=\"black\" stroke=\"black\" points=\"237.67,-38.29 227.45,-35.47 233.68,-44.04 237.67,-38.29\"/>\n",
       "</g>\n",
       "</g>\n",
       "</svg>\n"
      ],
      "text/plain": [
       "<graphviz.dot.Digraph at 0x7f3a2c44fd00>"
      ]
     },
     "execution_count": 31,
     "metadata": {},
     "output_type": "execute_result"
    }
   ],
   "source": [
    "a = torch.randn(5, requires_grad=True)\n",
    "b = torch.randn(5, requires_grad=True)\n",
    "c = (a + 1) * b\n",
    "ptgraph(c)\n"
   ]
  },
  {
   "cell_type": "markdown",
   "metadata": {
    "slideshow": {
     "slide_type": "slide"
    }
   },
   "source": [
    "A common mistake is to accidentally throw away the true leaf. Note the difference between `a` and `b`."
   ]
  },
  {
   "cell_type": "code",
   "execution_count": 32,
   "metadata": {
    "slideshow": {
     "slide_type": "-"
    }
   },
   "outputs": [
    {
     "data": {
      "image/svg+xml": [
       "<?xml version=\"1.0\" encoding=\"UTF-8\" standalone=\"no\"?>\n",
       "<!DOCTYPE svg PUBLIC \"-//W3C//DTD SVG 1.1//EN\"\n",
       " \"http://www.w3.org/Graphics/SVG/1.1/DTD/svg11.dtd\">\n",
       "<!-- Generated by graphviz version 2.43.0 (0)\n",
       " -->\n",
       "<!-- Title: %3 Pages: 1 -->\n",
       "<svg width=\"436pt\" height=\"260pt\"\n",
       " viewBox=\"0.00 0.00 436.18 260.00\" xmlns=\"http://www.w3.org/2000/svg\" xmlns:xlink=\"http://www.w3.org/1999/xlink\">\n",
       "<g id=\"graph0\" class=\"graph\" transform=\"scale(1 1) rotate(0) translate(4 256)\">\n",
       "<title>%3</title>\n",
       "<polygon fill=\"white\" stroke=\"transparent\" points=\"-4,4 -4,-256 432.18,-256 432.18,4 -4,4\"/>\n",
       "<!-- 139887827512112 -->\n",
       "<g id=\"node1\" class=\"node\">\n",
       "<title>139887827512112</title>\n",
       "<ellipse fill=\"none\" stroke=\"black\" cx=\"223.84\" cy=\"-18\" rx=\"94.78\" ry=\"18\"/>\n",
       "<text text-anchor=\"middle\" x=\"223.84\" y=\"-14.3\" font-family=\"Times,serif\" font-size=\"14.00\">c (MulBackward0)</text>\n",
       "</g>\n",
       "<!-- 8742989221771 -->\n",
       "<g id=\"node2\" class=\"node\">\n",
       "<title>8742989221771</title>\n",
       "<ellipse fill=\"none\" stroke=\"black\" cx=\"122.84\" cy=\"-90\" rx=\"80.69\" ry=\"18\"/>\n",
       "<text text-anchor=\"middle\" x=\"122.84\" y=\"-86.3\" font-family=\"Times,serif\" font-size=\"14.00\">AddBackward0</text>\n",
       "</g>\n",
       "<!-- 8742989221771&#45;&gt;139887827512112 -->\n",
       "<g id=\"edge3\" class=\"edge\">\n",
       "<title>8742989221771&#45;&gt;139887827512112</title>\n",
       "<path fill=\"none\" stroke=\"black\" d=\"M146.26,-72.76C159.71,-63.45 176.79,-51.61 191.5,-41.41\"/>\n",
       "<polygon fill=\"black\" stroke=\"black\" points=\"193.61,-44.21 199.84,-35.63 189.63,-38.45 193.61,-44.21\"/>\n",
       "</g>\n",
       "<!-- 139887827512032 -->\n",
       "<g id=\"node3\" class=\"node\">\n",
       "<title>139887827512032</title>\n",
       "<ellipse fill=\"none\" stroke=\"black\" cx=\"122.84\" cy=\"-162\" rx=\"112.38\" ry=\"18\"/>\n",
       "<text text-anchor=\"middle\" x=\"122.84\" y=\"-158.3\" font-family=\"Times,serif\" font-size=\"14.00\">a (ToCopyBackward0)</text>\n",
       "</g>\n",
       "<!-- 139887827512032&#45;&gt;8742989221771 -->\n",
       "<g id=\"edge2\" class=\"edge\">\n",
       "<title>139887827512032&#45;&gt;8742989221771</title>\n",
       "<path fill=\"none\" stroke=\"black\" d=\"M122.84,-143.7C122.84,-135.98 122.84,-126.71 122.84,-118.11\"/>\n",
       "<polygon fill=\"black\" stroke=\"black\" points=\"126.34,-118.1 122.84,-108.1 119.34,-118.1 126.34,-118.1\"/>\n",
       "</g>\n",
       "<!-- 139887827510832 -->\n",
       "<g id=\"node4\" class=\"node\">\n",
       "<title>139887827510832</title>\n",
       "<ellipse fill=\"none\" stroke=\"black\" cx=\"122.84\" cy=\"-234\" rx=\"122.68\" ry=\"18\"/>\n",
       "<text text-anchor=\"middle\" x=\"122.84\" y=\"-230.3\" font-family=\"Times,serif\" font-size=\"14.00\">pre_a (AccumulateGrad)</text>\n",
       "</g>\n",
       "<!-- 139887827510832&#45;&gt;139887827512032 -->\n",
       "<g id=\"edge1\" class=\"edge\">\n",
       "<title>139887827510832&#45;&gt;139887827512032</title>\n",
       "<path fill=\"none\" stroke=\"black\" d=\"M122.84,-215.7C122.84,-207.98 122.84,-198.71 122.84,-190.11\"/>\n",
       "<polygon fill=\"black\" stroke=\"black\" points=\"126.34,-190.1 122.84,-180.1 119.34,-190.1 126.34,-190.1\"/>\n",
       "</g>\n",
       "<!-- 139887827512512 -->\n",
       "<g id=\"node5\" class=\"node\">\n",
       "<title>139887827512512</title>\n",
       "<ellipse fill=\"none\" stroke=\"black\" cx=\"324.84\" cy=\"-90\" rx=\"103.18\" ry=\"18\"/>\n",
       "<text text-anchor=\"middle\" x=\"324.84\" y=\"-86.3\" font-family=\"Times,serif\" font-size=\"14.00\">b (AccumulateGrad)</text>\n",
       "</g>\n",
       "<!-- 139887827512512&#45;&gt;139887827512112 -->\n",
       "<g id=\"edge4\" class=\"edge\">\n",
       "<title>139887827512512&#45;&gt;139887827512112</title>\n",
       "<path fill=\"none\" stroke=\"black\" d=\"M300.9,-72.41C287.44,-63.08 270.47,-51.32 255.87,-41.2\"/>\n",
       "<polygon fill=\"black\" stroke=\"black\" points=\"257.82,-38.29 247.6,-35.47 253.83,-44.04 257.82,-38.29\"/>\n",
       "</g>\n",
       "</g>\n",
       "</svg>\n"
      ],
      "text/plain": [
       "<graphviz.dot.Digraph at 0x7f3a2c44aeb0>"
      ]
     },
     "execution_count": 32,
     "metadata": {},
     "output_type": "execute_result"
    }
   ],
   "source": [
    "pre_a = torch.randn(5, requires_grad=True)\n",
    "a =  pre_a.cuda()\n",
    "b = torch.randn(5, requires_grad=True, device='cuda')\n",
    "c = (a + 1) * b\n",
    "ptgraph(c)"
   ]
  },
  {
   "cell_type": "markdown",
   "metadata": {
    "slideshow": {
     "slide_type": "slide"
    }
   },
   "source": [
    "This would be a repaired version (but, if you can, working directly on the GPU is more efficient)."
   ]
  },
  {
   "cell_type": "code",
   "execution_count": 33,
   "metadata": {
    "slideshow": {
     "slide_type": "-"
    }
   },
   "outputs": [
    {
     "data": {
      "image/svg+xml": [
       "<?xml version=\"1.0\" encoding=\"UTF-8\" standalone=\"no\"?>\n",
       "<!DOCTYPE svg PUBLIC \"-//W3C//DTD SVG 1.1//EN\"\n",
       " \"http://www.w3.org/Graphics/SVG/1.1/DTD/svg11.dtd\">\n",
       "<!-- Generated by graphviz version 2.43.0 (0)\n",
       " -->\n",
       "<!-- Title: %3 Pages: 1 -->\n",
       "<svg width=\"416pt\" height=\"188pt\"\n",
       " viewBox=\"0.00 0.00 416.03 188.00\" xmlns=\"http://www.w3.org/2000/svg\" xmlns:xlink=\"http://www.w3.org/1999/xlink\">\n",
       "<g id=\"graph0\" class=\"graph\" transform=\"scale(1 1) rotate(0) translate(4 184)\">\n",
       "<title>%3</title>\n",
       "<polygon fill=\"white\" stroke=\"transparent\" points=\"-4,4 -4,-184 412.03,-184 412.03,4 -4,4\"/>\n",
       "<!-- 139887827509712 -->\n",
       "<g id=\"node1\" class=\"node\">\n",
       "<title>139887827509712</title>\n",
       "<ellipse fill=\"none\" stroke=\"black\" cx=\"203.69\" cy=\"-18\" rx=\"94.78\" ry=\"18\"/>\n",
       "<text text-anchor=\"middle\" x=\"203.69\" y=\"-14.3\" font-family=\"Times,serif\" font-size=\"14.00\">c (MulBackward0)</text>\n",
       "</g>\n",
       "<!-- 8742989221726 -->\n",
       "<g id=\"node2\" class=\"node\">\n",
       "<title>8742989221726</title>\n",
       "<ellipse fill=\"none\" stroke=\"black\" cx=\"102.69\" cy=\"-90\" rx=\"80.69\" ry=\"18\"/>\n",
       "<text text-anchor=\"middle\" x=\"102.69\" y=\"-86.3\" font-family=\"Times,serif\" font-size=\"14.00\">AddBackward0</text>\n",
       "</g>\n",
       "<!-- 8742989221726&#45;&gt;139887827509712 -->\n",
       "<g id=\"edge2\" class=\"edge\">\n",
       "<title>8742989221726&#45;&gt;139887827509712</title>\n",
       "<path fill=\"none\" stroke=\"black\" d=\"M126.12,-72.76C139.56,-63.45 156.64,-51.61 171.35,-41.41\"/>\n",
       "<polygon fill=\"black\" stroke=\"black\" points=\"173.47,-44.21 179.69,-35.63 169.48,-38.45 173.47,-44.21\"/>\n",
       "</g>\n",
       "<!-- 139887827513232 -->\n",
       "<g id=\"node3\" class=\"node\">\n",
       "<title>139887827513232</title>\n",
       "<ellipse fill=\"none\" stroke=\"black\" cx=\"102.69\" cy=\"-162\" rx=\"102.88\" ry=\"18\"/>\n",
       "<text text-anchor=\"middle\" x=\"102.69\" y=\"-158.3\" font-family=\"Times,serif\" font-size=\"14.00\">a (AccumulateGrad)</text>\n",
       "</g>\n",
       "<!-- 139887827513232&#45;&gt;8742989221726 -->\n",
       "<g id=\"edge1\" class=\"edge\">\n",
       "<title>139887827513232&#45;&gt;8742989221726</title>\n",
       "<path fill=\"none\" stroke=\"black\" d=\"M102.69,-143.7C102.69,-135.98 102.69,-126.71 102.69,-118.11\"/>\n",
       "<polygon fill=\"black\" stroke=\"black\" points=\"106.19,-118.1 102.69,-108.1 99.19,-118.1 106.19,-118.1\"/>\n",
       "</g>\n",
       "<!-- 139887827510752 -->\n",
       "<g id=\"node4\" class=\"node\">\n",
       "<title>139887827510752</title>\n",
       "<ellipse fill=\"none\" stroke=\"black\" cx=\"304.69\" cy=\"-90\" rx=\"103.18\" ry=\"18\"/>\n",
       "<text text-anchor=\"middle\" x=\"304.69\" y=\"-86.3\" font-family=\"Times,serif\" font-size=\"14.00\">b (AccumulateGrad)</text>\n",
       "</g>\n",
       "<!-- 139887827510752&#45;&gt;139887827509712 -->\n",
       "<g id=\"edge3\" class=\"edge\">\n",
       "<title>139887827510752&#45;&gt;139887827509712</title>\n",
       "<path fill=\"none\" stroke=\"black\" d=\"M280.76,-72.41C267.3,-63.08 250.32,-51.32 235.73,-41.2\"/>\n",
       "<polygon fill=\"black\" stroke=\"black\" points=\"237.67,-38.29 227.45,-35.47 233.68,-44.04 237.67,-38.29\"/>\n",
       "</g>\n",
       "</g>\n",
       "</svg>\n"
      ],
      "text/plain": [
       "<graphviz.dot.Digraph at 0x7f3a2c44fd90>"
      ]
     },
     "execution_count": 33,
     "metadata": {},
     "output_type": "execute_result"
    }
   ],
   "source": [
    "a = torch.randn(5).cuda().requires_grad_()\n",
    "b = torch.randn(5, requires_grad=True, device='cuda')\n",
    "c = (a + 1) * b\n",
    "ptgraph(c)"
   ]
  },
  {
   "cell_type": "markdown",
   "metadata": {
    "slideshow": {
     "slide_type": "slide"
    }
   },
   "source": [
    "You can cut things from autograd with `detach()` (and `detach_()`)"
   ]
  },
  {
   "cell_type": "code",
   "execution_count": 34,
   "metadata": {
    "slideshow": {
     "slide_type": "-"
    }
   },
   "outputs": [
    {
     "data": {
      "image/svg+xml": [
       "<?xml version=\"1.0\" encoding=\"UTF-8\" standalone=\"no\"?>\n",
       "<!DOCTYPE svg PUBLIC \"-//W3C//DTD SVG 1.1//EN\"\n",
       " \"http://www.w3.org/Graphics/SVG/1.1/DTD/svg11.dtd\">\n",
       "<!-- Generated by graphviz version 2.43.0 (0)\n",
       " -->\n",
       "<!-- Title: %3 Pages: 1 -->\n",
       "<svg width=\"215pt\" height=\"116pt\"\n",
       " viewBox=\"0.00 0.00 214.68 116.00\" xmlns=\"http://www.w3.org/2000/svg\" xmlns:xlink=\"http://www.w3.org/1999/xlink\">\n",
       "<g id=\"graph0\" class=\"graph\" transform=\"scale(1 1) rotate(0) translate(4 112)\">\n",
       "<title>%3</title>\n",
       "<polygon fill=\"white\" stroke=\"transparent\" points=\"-4,4 -4,-112 210.68,-112 210.68,4 -4,4\"/>\n",
       "<!-- 139887827640704 -->\n",
       "<g id=\"node1\" class=\"node\">\n",
       "<title>139887827640704</title>\n",
       "<ellipse fill=\"none\" stroke=\"black\" cx=\"103.34\" cy=\"-18\" rx=\"94.78\" ry=\"18\"/>\n",
       "<text text-anchor=\"middle\" x=\"103.34\" y=\"-14.3\" font-family=\"Times,serif\" font-size=\"14.00\">c (MulBackward0)</text>\n",
       "</g>\n",
       "<!-- 139887827640944 -->\n",
       "<g id=\"node2\" class=\"node\">\n",
       "<title>139887827640944</title>\n",
       "<ellipse fill=\"none\" stroke=\"black\" cx=\"103.34\" cy=\"-90\" rx=\"103.18\" ry=\"18\"/>\n",
       "<text text-anchor=\"middle\" x=\"103.34\" y=\"-86.3\" font-family=\"Times,serif\" font-size=\"14.00\">b (AccumulateGrad)</text>\n",
       "</g>\n",
       "<!-- 139887827640944&#45;&gt;139887827640704 -->\n",
       "<g id=\"edge1\" class=\"edge\">\n",
       "<title>139887827640944&#45;&gt;139887827640704</title>\n",
       "<path fill=\"none\" stroke=\"black\" d=\"M103.34,-71.7C103.34,-63.98 103.34,-54.71 103.34,-46.11\"/>\n",
       "<polygon fill=\"black\" stroke=\"black\" points=\"106.84,-46.1 103.34,-36.1 99.84,-46.1 106.84,-46.1\"/>\n",
       "</g>\n",
       "</g>\n",
       "</svg>\n"
      ],
      "text/plain": [
       "<graphviz.dot.Digraph at 0x7f3a2c44adc0>"
      ]
     },
     "execution_count": 34,
     "metadata": {},
     "output_type": "execute_result"
    }
   ],
   "source": [
    "a = torch.randn(5, requires_grad=True).cuda()\n",
    "b = torch.randn(5, requires_grad=True, device='cuda')\n",
    "c = (a + 1).detach() * b\n",
    "ptgraph(c)"
   ]
  },
  {
   "cell_type": "markdown",
   "metadata": {
    "slideshow": {
     "slide_type": "slide"
    }
   },
   "source": [
    "Inplace with autograd can be tricky"
   ]
  },
  {
   "cell_type": "code",
   "execution_count": 35,
   "metadata": {},
   "outputs": [
    {
     "data": {
      "text/plain": [
       "(tensor([1., 1., 1., 1., 1.]),)"
      ]
     },
     "execution_count": 35,
     "metadata": {},
     "output_type": "execute_result"
    }
   ],
   "source": [
    "a = torch.randn(5, requires_grad=True)\n",
    "b1 = a + 1\n",
    "b2 = b1 + 1\n",
    "\n",
    "b1 += 1\n",
    "\n",
    "torch.autograd.grad(b2.sum(), a) # works\n"
   ]
  },
  {
   "cell_type": "code",
   "execution_count": 36,
   "metadata": {
    "scrolled": true,
    "slideshow": {
     "slide_type": "slide"
    },
    "tags": [
     "raises-exception"
    ]
   },
   "outputs": [
    {
     "ename": "RuntimeError",
     "evalue": "one of the variables needed for gradient computation has been modified by an inplace operation: [torch.FloatTensor [5]], which is output 0 of AddBackward0, is at version 1; expected version 0 instead. Hint: enable anomaly detection to find the operation that failed to compute its gradient, with torch.autograd.set_detect_anomaly(True).",
     "output_type": "error",
     "traceback": [
      "\u001b[0;31m---------------------------------------------------------------------------\u001b[0m",
      "\u001b[0;31mRuntimeError\u001b[0m                              Traceback (most recent call last)",
      "\u001b[0;32m<ipython-input-36-950f59f473fd>\u001b[0m in \u001b[0;36m<module>\u001b[0;34m\u001b[0m\n\u001b[1;32m      4\u001b[0m \u001b[0mb1\u001b[0m \u001b[0;34m+=\u001b[0m \u001b[0;36m1\u001b[0m\u001b[0;34m\u001b[0m\u001b[0;34m\u001b[0m\u001b[0m\n\u001b[1;32m      5\u001b[0m \u001b[0;34m\u001b[0m\u001b[0m\n\u001b[0;32m----> 6\u001b[0;31m \u001b[0mtorch\u001b[0m\u001b[0;34m.\u001b[0m\u001b[0mautograd\u001b[0m\u001b[0;34m.\u001b[0m\u001b[0mgrad\u001b[0m\u001b[0;34m(\u001b[0m\u001b[0mb2\u001b[0m\u001b[0;34m.\u001b[0m\u001b[0msum\u001b[0m\u001b[0;34m(\u001b[0m\u001b[0;34m)\u001b[0m\u001b[0;34m,\u001b[0m \u001b[0ma\u001b[0m\u001b[0;34m)\u001b[0m \u001b[0;31m# this would need the original b1\u001b[0m\u001b[0;34m\u001b[0m\u001b[0;34m\u001b[0m\u001b[0m\n\u001b[0m",
      "\u001b[0;32m/usr/local/lib/python3.9/dist-packages/torch/autograd/__init__.py\u001b[0m in \u001b[0;36mgrad\u001b[0;34m(outputs, inputs, grad_outputs, retain_graph, create_graph, only_inputs, allow_unused)\u001b[0m\n\u001b[1;32m    232\u001b[0m         \u001b[0mretain_graph\u001b[0m \u001b[0;34m=\u001b[0m \u001b[0mcreate_graph\u001b[0m\u001b[0;34m\u001b[0m\u001b[0;34m\u001b[0m\u001b[0m\n\u001b[1;32m    233\u001b[0m \u001b[0;34m\u001b[0m\u001b[0m\n\u001b[0;32m--> 234\u001b[0;31m     return Variable._execution_engine.run_backward(\n\u001b[0m\u001b[1;32m    235\u001b[0m         \u001b[0moutputs\u001b[0m\u001b[0;34m,\u001b[0m \u001b[0mgrad_outputs_\u001b[0m\u001b[0;34m,\u001b[0m \u001b[0mretain_graph\u001b[0m\u001b[0;34m,\u001b[0m \u001b[0mcreate_graph\u001b[0m\u001b[0;34m,\u001b[0m\u001b[0;34m\u001b[0m\u001b[0;34m\u001b[0m\u001b[0m\n\u001b[1;32m    236\u001b[0m         inputs, allow_unused, accumulate_grad=False)\n",
      "\u001b[0;31mRuntimeError\u001b[0m: one of the variables needed for gradient computation has been modified by an inplace operation: [torch.FloatTensor [5]], which is output 0 of AddBackward0, is at version 1; expected version 0 instead. Hint: enable anomaly detection to find the operation that failed to compute its gradient, with torch.autograd.set_detect_anomaly(True)."
     ]
    }
   ],
   "source": [
    "a = torch.randn(5, requires_grad=True)\n",
    "b1 = a + 1\n",
    "b2 = b1 ** 2\n",
    "b1 += 1\n",
    "\n",
    "torch.autograd.grad(b2.sum(), a) # this would need the original b1"
   ]
  },
  {
   "cell_type": "markdown",
   "metadata": {
    "slideshow": {
     "slide_type": "slide"
    },
    "tags": [
     "raises-exception"
    ]
   },
   "source": [
    "We did not get a TraceBack in Jupyter before PyTorch 1.7 (PR #41116), but now we get too much (the crucial `b2 = b1 ** 2` is there, but off-screen)..."
   ]
  },
  {
   "cell_type": "code",
   "execution_count": 37,
   "metadata": {
    "scrolled": true,
    "slideshow": {
     "slide_type": "-"
    },
    "tags": [
     "raises-exception"
    ]
   },
   "outputs": [
    {
     "name": "stderr",
     "output_type": "stream",
     "text": [
      "<ipython-input-37-fb1eaba42148>:1: UserWarning: Anomaly Detection has been enabled. This mode will increase the runtime and should only be enabled for debugging.\n",
      "  with torch.autograd.detect_anomaly():\n",
      "/usr/local/lib/python3.9/dist-packages/torch/autograd/__init__.py:234: UserWarning: Error detected in PowBackward0. Traceback of forward call that caused the error:\n",
      "  File \"/usr/lib/python3.9/runpy.py\", line 197, in _run_module_as_main\n",
      "    return _run_code(code, main_globals, None,\n",
      "  File \"/usr/lib/python3.9/runpy.py\", line 87, in _run_code\n",
      "    exec(code, run_globals)\n",
      "  File \"/usr/lib/python3/dist-packages/ipykernel_launcher.py\", line 16, in <module>\n",
      "    app.launch_new_instance()\n",
      "  File \"/usr/lib/python3/dist-packages/traitlets/config/application.py\", line 846, in launch_instance\n",
      "    app.start()\n",
      "  File \"/usr/lib/python3/dist-packages/ipykernel/kernelapp.py\", line 619, in start\n",
      "    self.io_loop.start()\n",
      "  File \"/usr/lib/python3/dist-packages/tornado/platform/asyncio.py\", line 199, in start\n",
      "    self.asyncio_loop.run_forever()\n",
      "  File \"/usr/lib/python3.9/asyncio/base_events.py\", line 596, in run_forever\n",
      "    self._run_once()\n",
      "  File \"/usr/lib/python3.9/asyncio/base_events.py\", line 1890, in _run_once\n",
      "    handle._run()\n",
      "  File \"/usr/lib/python3.9/asyncio/events.py\", line 80, in _run\n",
      "    self._context.run(self._callback, *self._args)\n",
      "  File \"/usr/lib/python3/dist-packages/tornado/ioloop.py\", line 688, in <lambda>\n",
      "    lambda f: self._run_callback(functools.partial(callback, future))\n",
      "  File \"/usr/lib/python3/dist-packages/tornado/ioloop.py\", line 741, in _run_callback\n",
      "    ret = callback()\n",
      "  File \"/usr/lib/python3/dist-packages/tornado/gen.py\", line 814, in inner\n",
      "    self.ctx_run(self.run)\n",
      "  File \"/usr/lib/python3/dist-packages/tornado/gen.py\", line 775, in run\n",
      "    yielded = self.gen.send(value)\n",
      "  File \"/usr/lib/python3/dist-packages/ipykernel/kernelbase.py\", line 358, in process_one\n",
      "    yield gen.maybe_future(dispatch(*args))\n",
      "  File \"/usr/lib/python3/dist-packages/tornado/gen.py\", line 234, in wrapper\n",
      "    yielded = ctx_run(next, result)\n",
      "  File \"/usr/lib/python3/dist-packages/ipykernel/kernelbase.py\", line 261, in dispatch_shell\n",
      "    yield gen.maybe_future(handler(stream, idents, msg))\n",
      "  File \"/usr/lib/python3/dist-packages/tornado/gen.py\", line 234, in wrapper\n",
      "    yielded = ctx_run(next, result)\n",
      "  File \"/usr/lib/python3/dist-packages/ipykernel/kernelbase.py\", line 536, in execute_request\n",
      "    self.do_execute(\n",
      "  File \"/usr/lib/python3/dist-packages/tornado/gen.py\", line 234, in wrapper\n",
      "    yielded = ctx_run(next, result)\n",
      "  File \"/usr/lib/python3/dist-packages/ipykernel/ipkernel.py\", line 302, in do_execute\n",
      "    res = shell.run_cell(code, store_history=store_history, silent=silent)\n",
      "  File \"/usr/lib/python3/dist-packages/ipykernel/zmqshell.py\", line 539, in run_cell\n",
      "    return super(ZMQInteractiveShell, self).run_cell(*args, **kwargs)\n",
      "  File \"/usr/lib/python3/dist-packages/IPython/core/interactiveshell.py\", line 2894, in run_cell\n",
      "    result = self._run_cell(\n",
      "  File \"/usr/lib/python3/dist-packages/IPython/core/interactiveshell.py\", line 2940, in _run_cell\n",
      "    return runner(coro)\n",
      "  File \"/usr/lib/python3/dist-packages/IPython/core/async_helpers.py\", line 68, in _pseudo_sync_runner\n",
      "    coro.send(None)\n",
      "  File \"/usr/lib/python3/dist-packages/IPython/core/interactiveshell.py\", line 3165, in run_cell_async\n",
      "    has_raised = await self.run_ast_nodes(code_ast.body, cell_name,\n",
      "  File \"/usr/lib/python3/dist-packages/IPython/core/interactiveshell.py\", line 3357, in run_ast_nodes\n",
      "    if (await self.run_code(code, result,  async_=asy)):\n",
      "  File \"/usr/lib/python3/dist-packages/IPython/core/interactiveshell.py\", line 3437, in run_code\n",
      "    exec(code_obj, self.user_global_ns, self.user_ns)\n",
      "  File \"<ipython-input-37-fb1eaba42148>\", line 4, in <module>\n",
      "    b2 = b1 ** 2\n",
      "  File \"/usr/local/lib/python3.9/dist-packages/torch/_tensor.py\", line 30, in wrapped\n",
      "    return f(*args, **kwargs)\n",
      " (Triggered internally at  /home/tv/pytorch/pytorch/torch/csrc/autograd/python_anomaly_mode.cpp:102.)\n",
      "  return Variable._execution_engine.run_backward(\n"
     ]
    },
    {
     "ename": "RuntimeError",
     "evalue": "one of the variables needed for gradient computation has been modified by an inplace operation: [torch.FloatTensor [5]], which is output 0 of AddBackward0, is at version 1; expected version 0 instead. Hint: the backtrace further above shows the operation that failed to compute its gradient. The variable in question was changed in there or anywhere later. Good luck!",
     "output_type": "error",
     "traceback": [
      "\u001b[0;31m---------------------------------------------------------------------------\u001b[0m",
      "\u001b[0;31mRuntimeError\u001b[0m                              Traceback (most recent call last)",
      "\u001b[0;32m<ipython-input-37-fb1eaba42148>\u001b[0m in \u001b[0;36m<module>\u001b[0;34m\u001b[0m\n\u001b[1;32m      5\u001b[0m     \u001b[0mb1\u001b[0m \u001b[0;34m+=\u001b[0m \u001b[0;36m1\u001b[0m\u001b[0;34m\u001b[0m\u001b[0;34m\u001b[0m\u001b[0m\n\u001b[1;32m      6\u001b[0m \u001b[0;34m\u001b[0m\u001b[0m\n\u001b[0;32m----> 7\u001b[0;31m     \u001b[0mtorch\u001b[0m\u001b[0;34m.\u001b[0m\u001b[0mautograd\u001b[0m\u001b[0;34m.\u001b[0m\u001b[0mgrad\u001b[0m\u001b[0;34m(\u001b[0m\u001b[0mb2\u001b[0m\u001b[0;34m.\u001b[0m\u001b[0msum\u001b[0m\u001b[0;34m(\u001b[0m\u001b[0;34m)\u001b[0m\u001b[0;34m,\u001b[0m \u001b[0ma\u001b[0m\u001b[0;34m)\u001b[0m \u001b[0;31m# this would need the original b1\u001b[0m\u001b[0;34m\u001b[0m\u001b[0;34m\u001b[0m\u001b[0m\n\u001b[0m",
      "\u001b[0;32m/usr/local/lib/python3.9/dist-packages/torch/autograd/__init__.py\u001b[0m in \u001b[0;36mgrad\u001b[0;34m(outputs, inputs, grad_outputs, retain_graph, create_graph, only_inputs, allow_unused)\u001b[0m\n\u001b[1;32m    232\u001b[0m         \u001b[0mretain_graph\u001b[0m \u001b[0;34m=\u001b[0m \u001b[0mcreate_graph\u001b[0m\u001b[0;34m\u001b[0m\u001b[0;34m\u001b[0m\u001b[0m\n\u001b[1;32m    233\u001b[0m \u001b[0;34m\u001b[0m\u001b[0m\n\u001b[0;32m--> 234\u001b[0;31m     return Variable._execution_engine.run_backward(\n\u001b[0m\u001b[1;32m    235\u001b[0m         \u001b[0moutputs\u001b[0m\u001b[0;34m,\u001b[0m \u001b[0mgrad_outputs_\u001b[0m\u001b[0;34m,\u001b[0m \u001b[0mretain_graph\u001b[0m\u001b[0;34m,\u001b[0m \u001b[0mcreate_graph\u001b[0m\u001b[0;34m,\u001b[0m\u001b[0;34m\u001b[0m\u001b[0;34m\u001b[0m\u001b[0m\n\u001b[1;32m    236\u001b[0m         inputs, allow_unused, accumulate_grad=False)\n",
      "\u001b[0;31mRuntimeError\u001b[0m: one of the variables needed for gradient computation has been modified by an inplace operation: [torch.FloatTensor [5]], which is output 0 of AddBackward0, is at version 1; expected version 0 instead. Hint: the backtrace further above shows the operation that failed to compute its gradient. The variable in question was changed in there or anywhere later. Good luck!"
     ]
    }
   ],
   "source": [
    "with torch.autograd.detect_anomaly():\n",
    "    a = torch.randn(5, requires_grad=True)\n",
    "    b1 = a + 1\n",
    "    b2 = b1 ** 2\n",
    "    b1 += 1\n",
    "\n",
    "    torch.autograd.grad(b2.sum(), a) # this would need the original b1"
   ]
  },
  {
   "cell_type": "markdown",
   "metadata": {
    "slideshow": {
     "slide_type": "slide"
    }
   },
   "source": [
    "There are some opportunities where inplace is actually very useful. One of my faviourite tricks is to copy things into a preallocated tensor."
   ]
  },
  {
   "cell_type": "code",
   "execution_count": 38,
   "metadata": {},
   "outputs": [
    {
     "data": {
      "image/svg+xml": [
       "<?xml version=\"1.0\" encoding=\"UTF-8\" standalone=\"no\"?>\n",
       "<!DOCTYPE svg PUBLIC \"-//W3C//DTD SVG 1.1//EN\"\n",
       " \"http://www.w3.org/Graphics/SVG/1.1/DTD/svg11.dtd\">\n",
       "<!-- Generated by graphviz version 2.43.0 (0)\n",
       " -->\n",
       "<!-- Title: %3 Pages: 1 -->\n",
       "<svg width=\"397pt\" height=\"188pt\"\n",
       " viewBox=\"0.00 0.00 397.03 188.00\" xmlns=\"http://www.w3.org/2000/svg\" xmlns:xlink=\"http://www.w3.org/1999/xlink\">\n",
       "<g id=\"graph0\" class=\"graph\" transform=\"scale(1 1) rotate(0) translate(4 184)\">\n",
       "<title>%3</title>\n",
       "<polygon fill=\"white\" stroke=\"transparent\" points=\"-4,4 -4,-184 393.03,-184 393.03,4 -4,4\"/>\n",
       "<!-- 139887827619088 -->\n",
       "<g id=\"node1\" class=\"node\">\n",
       "<title>139887827619088</title>\n",
       "<ellipse fill=\"none\" stroke=\"black\" cx=\"193.69\" cy=\"-18\" rx=\"76.09\" ry=\"18\"/>\n",
       "<text text-anchor=\"middle\" x=\"193.69\" y=\"-14.3\" font-family=\"Times,serif\" font-size=\"14.00\">c (CopySlices)</text>\n",
       "</g>\n",
       "<!-- 8742989221852 -->\n",
       "<g id=\"node2\" class=\"node\">\n",
       "<title>8742989221852</title>\n",
       "<ellipse fill=\"none\" stroke=\"black\" cx=\"102.69\" cy=\"-90\" rx=\"61.99\" ry=\"18\"/>\n",
       "<text text-anchor=\"middle\" x=\"102.69\" y=\"-86.3\" font-family=\"Times,serif\" font-size=\"14.00\">CopySlices</text>\n",
       "</g>\n",
       "<!-- 8742989221852&#45;&gt;139887827619088 -->\n",
       "<g id=\"edge2\" class=\"edge\">\n",
       "<title>8742989221852&#45;&gt;139887827619088</title>\n",
       "<path fill=\"none\" stroke=\"black\" d=\"M123.8,-72.76C135.77,-63.55 150.94,-51.88 164.09,-41.77\"/>\n",
       "<polygon fill=\"black\" stroke=\"black\" points=\"166.59,-44.26 172.38,-35.39 162.32,-38.71 166.59,-44.26\"/>\n",
       "</g>\n",
       "<!-- 139887827618048 -->\n",
       "<g id=\"node3\" class=\"node\">\n",
       "<title>139887827618048</title>\n",
       "<ellipse fill=\"none\" stroke=\"black\" cx=\"102.69\" cy=\"-162\" rx=\"102.88\" ry=\"18\"/>\n",
       "<text text-anchor=\"middle\" x=\"102.69\" y=\"-158.3\" font-family=\"Times,serif\" font-size=\"14.00\">a (AccumulateGrad)</text>\n",
       "</g>\n",
       "<!-- 139887827618048&#45;&gt;8742989221852 -->\n",
       "<g id=\"edge1\" class=\"edge\">\n",
       "<title>139887827618048&#45;&gt;8742989221852</title>\n",
       "<path fill=\"none\" stroke=\"black\" d=\"M102.69,-143.7C102.69,-135.98 102.69,-126.71 102.69,-118.11\"/>\n",
       "<polygon fill=\"black\" stroke=\"black\" points=\"106.19,-118.1 102.69,-108.1 99.19,-118.1 106.19,-118.1\"/>\n",
       "</g>\n",
       "<!-- 139887827619248 -->\n",
       "<g id=\"node4\" class=\"node\">\n",
       "<title>139887827619248</title>\n",
       "<ellipse fill=\"none\" stroke=\"black\" cx=\"285.69\" cy=\"-90\" rx=\"103.18\" ry=\"18\"/>\n",
       "<text text-anchor=\"middle\" x=\"285.69\" y=\"-86.3\" font-family=\"Times,serif\" font-size=\"14.00\">b (AccumulateGrad)</text>\n",
       "</g>\n",
       "<!-- 139887827619248&#45;&gt;139887827619088 -->\n",
       "<g id=\"edge3\" class=\"edge\">\n",
       "<title>139887827619248&#45;&gt;139887827619088</title>\n",
       "<path fill=\"none\" stroke=\"black\" d=\"M263.42,-72.05C251.38,-62.89 236.35,-51.46 223.34,-41.56\"/>\n",
       "<polygon fill=\"black\" stroke=\"black\" points=\"225.2,-38.58 215.12,-35.31 220.96,-44.15 225.2,-38.58\"/>\n",
       "</g>\n",
       "</g>\n",
       "</svg>\n"
      ],
      "text/plain": [
       "<graphviz.dot.Digraph at 0x7f3a2c44ff40>"
      ]
     },
     "execution_count": 38,
     "metadata": {},
     "output_type": "execute_result"
    }
   ],
   "source": [
    "a = torch.randn(5, requires_grad=True)\n",
    "b = torch.randn(5, requires_grad=True)\n",
    "c = torch.zeros(4, 7)  # padded torch.stack([a,b])\n",
    "c[1, 1:-1] = a\n",
    "c[2, 1:-1] = b\n",
    "c\n",
    "ptgraph(c)"
   ]
  },
  {
   "cell_type": "code",
   "execution_count": 39,
   "metadata": {},
   "outputs": [],
   "source": [
    "gr_a, gr_b = torch.autograd.grad(c.sum(), [a, b])\n",
    "assert (gr_a -1).abs().max().item() < 1e-6 and (gr_b -1).abs().max().item() < 1e-6  # float and \"==\" don't mix well"
   ]
  },
  {
   "cell_type": "markdown",
   "metadata": {
    "slideshow": {
     "slide_type": "slide"
    }
   },
   "source": [
    "## Inplace Summary\n",
    "\n",
    "\n",
    "There are two main situations where inplace operations cannot be used:\n",
    "\n",
    "- When operating on leaf tensors, the leaf tensor would be moved into the graph, which would be bad.\n",
    "- When the operation before the inplace wants to have its result to compute the backward. Whether this is the case is not easy to tell from the outside, unfortunately.\n",
    "\n",
    "As a corollary, you should avoid using inplace on the inputs of your re-usable module lest in the future use could be in one of the two situations.\n",
    "\n",
    "Later: You might also be less eager to use inplace when planning to use the JIT, as it will fuse pointwise non-inplace operations like ReLU if there are several in a row.\n"
   ]
  },
  {
   "cell_type": "markdown",
   "metadata": {
    "slideshow": {
     "slide_type": "slide"
    }
   },
   "source": [
    "For validation, inference or other things where the *end user* decides she does not want gradients, there is the `torch.no_grad` context manager.\n",
    "\n",
    "We'll use it below to evaluate models after training.\n",
    "\n",
    "- If you need to use `torch.no_grad()` somewhere where it isn’t because you’re evaluating something that’s written for training, you should ask yourself if you’re doing it wrong.\n",
    "\n",
    "- Using item and detach for things to keep around longer than the next backward is generally a good idea (e.g. when you record loss history, statistics, …), but be careful to not ruin your graph. (Targeted detach is good in nn.Module subclass code, with torch.no_grad() should be needed very rarely.)"
   ]
  },
  {
   "cell_type": "markdown",
   "metadata": {
    "slideshow": {
     "slide_type": "slide"
    }
   },
   "source": [
    "It is not true that tensors created in `torch.no_grad` never require grad (as often views are special):"
   ]
  },
  {
   "cell_type": "code",
   "execution_count": 40,
   "metadata": {},
   "outputs": [
    {
     "data": {
      "text/plain": [
       "(tensor([[-1.7303,  2.7394,  2.2591, -0.4502, -2.2576],\n",
       "         [-0.8640, -0.9364,  2.6627, -1.2754, -1.7908],\n",
       "         [ 2.5884,  4.4431, -3.6362,  0.8776,  0.4456],\n",
       "         [ 3.1636,  0.3777,  1.7199, -0.6238,  3.1114],\n",
       "         [-1.8418, -3.2351,  0.7988,  1.0383,  0.6543]]),\n",
       " tensor([[-0.8651,  1.3697],\n",
       "         [-0.4320, -0.4682]], requires_grad=True))"
      ]
     },
     "execution_count": 40,
     "metadata": {},
     "output_type": "execute_result"
    }
   ],
   "source": [
    "a = torch.randn(5, 5, requires_grad=True)\n",
    "\n",
    "with torch.no_grad():\n",
    "    b = a * 2\n",
    "    c = a[:2, :2]\n",
    "\n",
    "b, c\n",
    "\n",
    "#with torch.inference_mode(): won't track views"
   ]
  },
  {
   "cell_type": "markdown",
   "metadata": {
    "slideshow": {
     "slide_type": "slide"
    }
   },
   "source": [
    "### Second derivatives\n",
    "\n",
    "You cannot get Hessians, but you can get Hessian vector products or really derivatives of any scalar function of the gradient."
   ]
  },
  {
   "cell_type": "code",
   "execution_count": 41,
   "metadata": {},
   "outputs": [
    {
     "data": {
      "text/plain": [
       "(tensor([0., 1., 2., 3., 4.], requires_grad=True),\n",
       " tensor([  0.,  12.,  48., 108., 192.]))"
      ]
     },
     "execution_count": 41,
     "metadata": {},
     "output_type": "execute_result"
    }
   ],
   "source": [
    "a = torch.arange(5., requires_grad=True)\n",
    "b = a ** 4\n",
    "gr, = torch.autograd.grad(b.sum(), [a], create_graph=True)\n",
    "hvp, = torch.autograd.grad(gr.sum(), [a])  # what is the vector in HVP?\n",
    "a, hvp # 4 * 3 * x"
   ]
  },
  {
   "cell_type": "markdown",
   "metadata": {
    "slideshow": {
     "slide_type": "slide"
    }
   },
   "source": [
    "\n",
    "\n",
    "## `backward` as a convenience method\n",
    "\n",
    "Above we used `torch.autograd.grad`. More commonly, you find `loss.backward()`. This is a convenience method for computing the gradient of all leaves `t` and storing the gradient in `t.grad`.\n",
    "In particular, PyTorch's built-in optimizers use these.\n",
    "\n",
    "You can ask for a gradient of an intermediate to be stored by `t.retain_grad()`.\n",
    "\n",
    "My advice: Only use backward to get gradients to then use with the optimizer. Don't use backward with \n",
    "`create_graph`."
   ]
  },
  {
   "cell_type": "markdown",
   "metadata": {
    "slideshow": {
     "slide_type": "slide"
    }
   },
   "source": [
    "## A fun trick\n",
    "\n",
    "Sometimes, we want the backward to not quite be like the forward. Round obviously has gradient 0, but wouldn't it be sometimes be convenient if..."
   ]
  },
  {
   "cell_type": "code",
   "execution_count": 42,
   "metadata": {},
   "outputs": [
    {
     "data": {
      "text/plain": [
       "tensor([0., 0., 0., 0., 0.])"
      ]
     },
     "execution_count": 42,
     "metadata": {},
     "output_type": "execute_result"
    }
   ],
   "source": [
    "a = torch.randn(5, requires_grad=True)\n",
    "b = a.round()\n",
    "gr, = torch.autograd.grad(b.sum(), [a])\n",
    "gr"
   ]
  },
  {
   "cell_type": "markdown",
   "metadata": {
    "slideshow": {
     "slide_type": "slide"
    }
   },
   "source": [
    "...we can actually do that (not this construction, but the same rounding trick is the gist of \"quantization aware training\", other things like \"gumble softmax\" also work like this):"
   ]
  },
  {
   "cell_type": "code",
   "execution_count": 43,
   "metadata": {},
   "outputs": [
    {
     "data": {
      "text/plain": [
       "(True, tensor([1., 1., 1., 1., 1.]))"
      ]
     },
     "execution_count": 43,
     "metadata": {},
     "output_type": "execute_result"
    }
   ],
   "source": [
    "def differentiable_round(a, ndigits=None):\n",
    "    if ndigits is None:\n",
    "        b = a.round()\n",
    "    else:\n",
    "        scale = 10 ** ndigits\n",
    "        b = (a * scale).round() / scale\n",
    "    return a + (b - a).detach()  # PyTorch's version of \"cleverly add 0\"\n",
    "c = differentiable_round(a)\n",
    "gr2, = torch.autograd.grad(c.sum(), [a])\n",
    "(c == b).all().item(), gr2"
   ]
  },
  {
   "cell_type": "markdown",
   "metadata": {
    "slideshow": {
     "slide_type": "slide"
    }
   },
   "source": [
    "Fake quantization training the hard way"
   ]
  },
  {
   "cell_type": "code",
   "execution_count": 44,
   "metadata": {
    "slideshow": {
     "slide_type": "-"
    }
   },
   "outputs": [],
   "source": [
    "w1 = torch.randn(1, 10, requires_grad=True)\n",
    "b1 = torch.randn(10, requires_grad=True)\n",
    "w2 = torch.randn(10, 1, requires_grad=True)\n",
    "b2 = torch.randn(1, requires_grad=True)\n",
    "params = [w1, b1, w2, b2]\n",
    "\n",
    "\n",
    "for i in range(200):\n",
    "    x = torch.randn(10, 1)\n",
    "    target = torch.sin(2 * x)\n",
    "\n",
    "    xr = differentiable_round(x)\n",
    "    w1r = differentiable_round(w1, 1)\n",
    "    b1r = differentiable_round(b1, 1)\n",
    "    w2r = differentiable_round(w2, 1)\n",
    "    b2r = differentiable_round(b2, 1)\n",
    "    pred = torch.tanh(xr @ w1r + b1r) @ w2r + b2r\n",
    "\n",
    "    loss = ((pred - target) ** 2).sum()\n",
    "\n",
    "    grads = torch.autograd.grad(loss, params)\n",
    "\n",
    "    for p, g in zip(params, grads):\n",
    "        with torch.no_grad():\n",
    "            p -= 1e-2 * g"
   ]
  },
  {
   "cell_type": "markdown",
   "metadata": {
    "slideshow": {
     "slide_type": "slide"
    }
   },
   "source": [
    "Did it work?"
   ]
  },
  {
   "cell_type": "code",
   "execution_count": 45,
   "metadata": {
    "slideshow": {
     "slide_type": "-"
    }
   },
   "outputs": [
    {
     "data": {
      "text/plain": [
       "<matplotlib.legend.Legend at 0x7f3a2c3c23d0>"
      ]
     },
     "execution_count": 45,
     "metadata": {},
     "output_type": "execute_result"
    },
    {
     "data": {
      "image/png": "[encoded data removed]",
      "text/plain": [
       "<Figure size 432x288 with 1 Axes>"
      ]
     },
     "metadata": {
      "needs_background": "light"
     },
     "output_type": "display_data"
    }
   ],
   "source": [
    "with torch.no_grad(): # no gradients here...\n",
    "    w1r = differentiable_round(w1, 1)\n",
    "    b1r = differentiable_round(b1, 1)\n",
    "    w2r = differentiable_round(w2, 1)\n",
    "    b2r = differentiable_round(b2, 1)\n",
    "    x0 = torch.linspace(-2, 2)\n",
    "    final_preds = torch.tanh(x0[:, None] @ w1r + b1r) @ w2r + b2r\n",
    "    gt = torch.sin(2*x0)\n",
    "\n",
    "pyplot.plot(x0, final_preds, label='fit')\n",
    "pyplot.plot(x0, gt, label='ground truth')\n",
    "pyplot.legend()"
   ]
  },
  {
   "cell_type": "markdown",
   "metadata": {
    "slideshow": {
     "slide_type": "slide"
    }
   },
   "source": [
    "# PyTorch is ... a Neural Network (and general Modelling) Library\n",
    "\n",
    "`torch.nn.Module` and subclasses play the central role as Neural Network building blocks.\n",
    "Modules are for bundling neural network *state*, i.e. Parameters, other Buffers, Submodules, with the rules to compute outputs from inputs.\n",
    "- Parameters: wrap in torch.nn.Parameter + assign\n",
    "- Buffers (Tensors noch trained via SGD, e.g. statistics): register_buffer\n",
    "- Submodules: assign"
   ]
  },
  {
   "cell_type": "markdown",
   "metadata": {
    "slideshow": {
     "slide_type": "slide"
    }
   },
   "source": [
    "Here is the equivalent of our previous model:"
   ]
  },
  {
   "cell_type": "code",
   "execution_count": 48,
   "metadata": {
    "slideshow": {
     "slide_type": "-"
    }
   },
   "outputs": [
    {
     "data": {
      "text/plain": [
       "Parameter containing:\n",
       "tensor([[-1.4614,  0.7908,  0.8986, -0.0263,  0.6208, -0.4654,  0.1735,  0.5412,\n",
       "          1.4698,  0.5524]], device='cuda:0', requires_grad=True)"
      ]
     },
     "execution_count": 48,
     "metadata": {},
     "output_type": "execute_result"
    }
   ],
   "source": [
    "class MyModel(torch.nn.Module):\n",
    "    def __init__(self):\n",
    "        super().__init__()\n",
    "        self.w1 = torch.nn.Parameter(torch.randn(1, 10))\n",
    "        self.b1 = torch.nn.Parameter(torch.randn(10))\n",
    "        self.w2 = torch.nn.Parameter(torch.randn(10, 1))\n",
    "        self.b2 = torch.nn.Parameter(torch.randn(1))\n",
    "  \n",
    "    def forward(self, x):\n",
    "        return torch.tanh(x @ self.w1 + self.b1) @ self.w2 + self.b2\n",
    "\n",
    "model = MyModel()\n",
    "model.to(device=\"cuda\")\n",
    "model.w1"
   ]
  },
  {
   "cell_type": "markdown",
   "metadata": {
    "slideshow": {
     "slide_type": "slide"
    }
   },
   "source": [
    "A rich library of pre-made modules under `torch.nn`.\n",
    "- `torch.nn.Linear`, `Conv2d`, `MaxPool2D`, `Tanh`, ...\n",
    "Also loss functions:\n",
    "- `CrossEntropyLoss`, `MSELoss`, `CTCLoss`...\n",
    "\n",
    "Careful: Naming `CrossEntropyLoss` vs. `NLLLoss` etc. is particular to PyTorch. Check the documentation for PyTorch's expectation of whether input have `softmax` / `log_softmax`  / something else applied."
   ]
  },
  {
   "cell_type": "markdown",
   "metadata": {
    "slideshow": {
     "slide_type": "slide"
    }
   },
   "source": [
    "We can make our model again with these:"
   ]
  },
  {
   "cell_type": "code",
   "execution_count": 49,
   "metadata": {},
   "outputs": [
    {
     "data": {
      "text/plain": [
       "MyModel(\n",
       "  (l1): Linear(in_features=1, out_features=10, bias=True)\n",
       "  (l2): Linear(in_features=10, out_features=1, bias=True)\n",
       ")"
      ]
     },
     "execution_count": 49,
     "metadata": {},
     "output_type": "execute_result"
    }
   ],
   "source": [
    "class MyModel(torch.nn.Module):\n",
    "    def __init__(self):\n",
    "        super().__init__()\n",
    "        self.l1 = torch.nn.Linear(1, 10)\n",
    "        self.l2 = torch.nn.Linear(10, 1)\n",
    "  \n",
    "    def forward(self, x):\n",
    "        x = torch.tanh(self.l1(x))\n",
    "        return self.l2(x)\n",
    "\n",
    "model = MyModel()\n",
    "model"
   ]
  },
  {
   "cell_type": "markdown",
   "metadata": {
    "slideshow": {
     "slide_type": "slide"
    }
   },
   "source": [
    "There also is a `Sequential` class for particularly simple \"chains\" of modules (with only one input/output)."
   ]
  },
  {
   "cell_type": "code",
   "execution_count": 50,
   "metadata": {
    "scrolled": true
   },
   "outputs": [
    {
     "data": {
      "image/svg+xml": [
       "<?xml version=\"1.0\" encoding=\"UTF-8\" standalone=\"no\"?>\n",
       "<!DOCTYPE svg PUBLIC \"-//W3C//DTD SVG 1.1//EN\"\n",
       " \"http://www.w3.org/Graphics/SVG/1.1/DTD/svg11.dtd\">\n",
       "<!-- Generated by graphviz version 2.43.0 (0)\n",
       " -->\n",
       "<!-- Title: %3 Pages: 1 -->\n",
       "<svg width=\"906pt\" height=\"332pt\"\n",
       " viewBox=\"0.00 0.00 905.62 332.00\" xmlns=\"http://www.w3.org/2000/svg\" xmlns:xlink=\"http://www.w3.org/1999/xlink\">\n",
       "<g id=\"graph0\" class=\"graph\" transform=\"scale(1 1) rotate(0) translate(4 328)\">\n",
       "<title>%3</title>\n",
       "<polygon fill=\"white\" stroke=\"transparent\" points=\"-4,4 -4,-328 901.62,-328 901.62,4 -4,4\"/>\n",
       "<!-- 139887826761504 -->\n",
       "<g id=\"node1\" class=\"node\">\n",
       "<title>139887826761504</title>\n",
       "<ellipse fill=\"none\" stroke=\"black\" cx=\"472.64\" cy=\"-18\" rx=\"122.38\" ry=\"18\"/>\n",
       "<text text-anchor=\"middle\" x=\"472.64\" y=\"-14.3\" font-family=\"Times,serif\" font-size=\"14.00\">res (AddmmBackward0)</text>\n",
       "</g>\n",
       "<!-- 139887826763344 -->\n",
       "<g id=\"node2\" class=\"node\">\n",
       "<title>139887826763344</title>\n",
       "<ellipse fill=\"none\" stroke=\"black\" cx=\"212.64\" cy=\"-90\" rx=\"156.77\" ry=\"18\"/>\n",
       "<text text-anchor=\"middle\" x=\"212.64\" y=\"-86.3\" font-family=\"Times,serif\" font-size=\"14.00\">model:2.bias (AccumulateGrad)</text>\n",
       "</g>\n",
       "<!-- 139887826763344&#45;&gt;139887826761504 -->\n",
       "<g id=\"edge1\" class=\"edge\">\n",
       "<title>139887826763344&#45;&gt;139887826761504</title>\n",
       "<path fill=\"none\" stroke=\"black\" d=\"M270.99,-73.29C311.32,-62.43 365.04,-47.97 406.89,-36.7\"/>\n",
       "<polygon fill=\"black\" stroke=\"black\" points=\"407.96,-40.04 416.71,-34.06 406.15,-33.28 407.96,-40.04\"/>\n",
       "</g>\n",
       "<!-- 8742989173089 -->\n",
       "<g id=\"node3\" class=\"node\">\n",
       "<title>8742989173089</title>\n",
       "<ellipse fill=\"none\" stroke=\"black\" cx=\"472.64\" cy=\"-90\" rx=\"85.29\" ry=\"18\"/>\n",
       "<text text-anchor=\"middle\" x=\"472.64\" y=\"-86.3\" font-family=\"Times,serif\" font-size=\"14.00\">TanhBackward0</text>\n",
       "</g>\n",
       "<!-- 8742989173089&#45;&gt;139887826761504 -->\n",
       "<g id=\"edge7\" class=\"edge\">\n",
       "<title>8742989173089&#45;&gt;139887826761504</title>\n",
       "<path fill=\"none\" stroke=\"black\" d=\"M472.64,-71.7C472.64,-63.98 472.64,-54.71 472.64,-46.11\"/>\n",
       "<polygon fill=\"black\" stroke=\"black\" points=\"476.14,-46.1 472.64,-36.1 469.14,-46.1 476.14,-46.1\"/>\n",
       "</g>\n",
       "<!-- 8742989173125 -->\n",
       "<g id=\"node4\" class=\"node\">\n",
       "<title>8742989173125</title>\n",
       "<ellipse fill=\"none\" stroke=\"black\" cx=\"443.64\" cy=\"-162\" rx=\"98.28\" ry=\"18\"/>\n",
       "<text text-anchor=\"middle\" x=\"443.64\" y=\"-158.3\" font-family=\"Times,serif\" font-size=\"14.00\">AddmmBackward0</text>\n",
       "</g>\n",
       "<!-- 8742989173125&#45;&gt;8742989173089 -->\n",
       "<g id=\"edge6\" class=\"edge\">\n",
       "<title>8742989173125&#45;&gt;8742989173089</title>\n",
       "<path fill=\"none\" stroke=\"black\" d=\"M450.8,-143.7C454.07,-135.81 458.01,-126.3 461.64,-117.55\"/>\n",
       "<polygon fill=\"black\" stroke=\"black\" points=\"464.96,-118.68 465.55,-108.1 458.49,-116 464.96,-118.68\"/>\n",
       "</g>\n",
       "<!-- 139887826762384 -->\n",
       "<g id=\"node5\" class=\"node\">\n",
       "<title>139887826762384</title>\n",
       "<ellipse fill=\"none\" stroke=\"black\" cx=\"156.64\" cy=\"-234\" rx=\"156.77\" ry=\"18\"/>\n",
       "<text text-anchor=\"middle\" x=\"156.64\" y=\"-230.3\" font-family=\"Times,serif\" font-size=\"14.00\">model:0.bias (AccumulateGrad)</text>\n",
       "</g>\n",
       "<!-- 139887826762384&#45;&gt;8742989173125 -->\n",
       "<g id=\"edge2\" class=\"edge\">\n",
       "<title>139887826762384&#45;&gt;8742989173125</title>\n",
       "<path fill=\"none\" stroke=\"black\" d=\"M220.33,-217.46C266.89,-206.11 329.89,-190.74 377.1,-179.23\"/>\n",
       "<polygon fill=\"black\" stroke=\"black\" points=\"378.04,-182.6 386.92,-176.83 376.38,-175.8 378.04,-182.6\"/>\n",
       "</g>\n",
       "<!-- 139887826763664 -->\n",
       "<g id=\"node6\" class=\"node\">\n",
       "<title>139887826763664</title>\n",
       "<ellipse fill=\"none\" stroke=\"black\" cx=\"443.64\" cy=\"-234\" rx=\"112.38\" ry=\"18\"/>\n",
       "<text text-anchor=\"middle\" x=\"443.64\" y=\"-230.3\" font-family=\"Times,serif\" font-size=\"14.00\">inp (AccumulateGrad)</text>\n",
       "</g>\n",
       "<!-- 139887826763664&#45;&gt;8742989173125 -->\n",
       "<g id=\"edge3\" class=\"edge\">\n",
       "<title>139887826763664&#45;&gt;8742989173125</title>\n",
       "<path fill=\"none\" stroke=\"black\" d=\"M443.64,-215.7C443.64,-207.98 443.64,-198.71 443.64,-190.11\"/>\n",
       "<polygon fill=\"black\" stroke=\"black\" points=\"447.14,-190.1 443.64,-180.1 440.14,-190.1 447.14,-190.1\"/>\n",
       "</g>\n",
       "<!-- 8742989173173 -->\n",
       "<g id=\"node7\" class=\"node\">\n",
       "<title>8742989173173</title>\n",
       "<ellipse fill=\"none\" stroke=\"black\" cx=\"642.64\" cy=\"-234\" rx=\"68.49\" ry=\"18\"/>\n",
       "<text text-anchor=\"middle\" x=\"642.64\" y=\"-230.3\" font-family=\"Times,serif\" font-size=\"14.00\">TBackward0</text>\n",
       "</g>\n",
       "<!-- 8742989173173&#45;&gt;8742989173125 -->\n",
       "<g id=\"edge5\" class=\"edge\">\n",
       "<title>8742989173173&#45;&gt;8742989173125</title>\n",
       "<path fill=\"none\" stroke=\"black\" d=\"M603.32,-219.17C572.8,-208.44 530.19,-193.45 496.66,-181.65\"/>\n",
       "<polygon fill=\"black\" stroke=\"black\" points=\"497.61,-178.28 487.02,-178.26 495.29,-184.88 497.61,-178.28\"/>\n",
       "</g>\n",
       "<!-- 139887826761984 -->\n",
       "<g id=\"node8\" class=\"node\">\n",
       "<title>139887826761984</title>\n",
       "<ellipse fill=\"none\" stroke=\"black\" cx=\"642.64\" cy=\"-306\" rx=\"168.97\" ry=\"18\"/>\n",
       "<text text-anchor=\"middle\" x=\"642.64\" y=\"-302.3\" font-family=\"Times,serif\" font-size=\"14.00\">model:0.weight (AccumulateGrad)</text>\n",
       "</g>\n",
       "<!-- 139887826761984&#45;&gt;8742989173173 -->\n",
       "<g id=\"edge4\" class=\"edge\">\n",
       "<title>139887826761984&#45;&gt;8742989173173</title>\n",
       "<path fill=\"none\" stroke=\"black\" d=\"M642.64,-287.7C642.64,-279.98 642.64,-270.71 642.64,-262.11\"/>\n",
       "<polygon fill=\"black\" stroke=\"black\" points=\"646.14,-262.1 642.64,-252.1 639.14,-262.1 646.14,-262.1\"/>\n",
       "</g>\n",
       "<!-- 8742989173128 -->\n",
       "<g id=\"node9\" class=\"node\">\n",
       "<title>8742989173128</title>\n",
       "<ellipse fill=\"none\" stroke=\"black\" cx=\"700.64\" cy=\"-90\" rx=\"68.49\" ry=\"18\"/>\n",
       "<text text-anchor=\"middle\" x=\"700.64\" y=\"-86.3\" font-family=\"Times,serif\" font-size=\"14.00\">TBackward0</text>\n",
       "</g>\n",
       "<!-- 8742989173128&#45;&gt;139887826761504 -->\n",
       "<g id=\"edge9\" class=\"edge\">\n",
       "<title>8742989173128&#45;&gt;139887826761504</title>\n",
       "<path fill=\"none\" stroke=\"black\" d=\"M658.02,-75.92C622.73,-65.08 572.17,-49.56 532.76,-37.46\"/>\n",
       "<polygon fill=\"black\" stroke=\"black\" points=\"533.59,-34.05 523,-34.46 531.53,-40.74 533.59,-34.05\"/>\n",
       "</g>\n",
       "<!-- 139887826761024 -->\n",
       "<g id=\"node10\" class=\"node\">\n",
       "<title>139887826761024</title>\n",
       "<ellipse fill=\"none\" stroke=\"black\" cx=\"728.64\" cy=\"-162\" rx=\"168.97\" ry=\"18\"/>\n",
       "<text text-anchor=\"middle\" x=\"728.64\" y=\"-158.3\" font-family=\"Times,serif\" font-size=\"14.00\">model:2.weight (AccumulateGrad)</text>\n",
       "</g>\n",
       "<!-- 139887826761024&#45;&gt;8742989173128 -->\n",
       "<g id=\"edge8\" class=\"edge\">\n",
       "<title>139887826761024&#45;&gt;8742989173128</title>\n",
       "<path fill=\"none\" stroke=\"black\" d=\"M721.71,-143.7C718.56,-135.81 714.76,-126.3 711.25,-117.55\"/>\n",
       "<polygon fill=\"black\" stroke=\"black\" points=\"714.44,-116.09 707.48,-108.1 707.94,-118.69 714.44,-116.09\"/>\n",
       "</g>\n",
       "</g>\n",
       "</svg>\n"
      ],
      "text/plain": [
       "<graphviz.dot.Digraph at 0x7f3a2c3f4cd0>"
      ]
     },
     "execution_count": 50,
     "metadata": {},
     "output_type": "execute_result"
    }
   ],
   "source": [
    "model = torch.nn.Sequential(\n",
    "            torch.nn.Linear(1, 10),\n",
    "            torch.nn.Tanh(),\n",
    "            torch.nn.Linear(10, 1))\n",
    "\n",
    "inp = torch.randn(5, 1, requires_grad=True)\n",
    "res = model(inp)\n",
    "ptgraph(res)"
   ]
  },
  {
   "cell_type": "markdown",
   "metadata": {
    "slideshow": {
     "slide_type": "slide"
    }
   },
   "source": [
    "Task: Can you subclass sequential to get a model class?"
   ]
  },
  {
   "cell_type": "markdown",
   "metadata": {
    "slideshow": {
     "slide_type": "slide"
    }
   },
   "source": [
    "### Loading and Saving models\n",
    "\n",
    "While you can save and load models using `torch.save` and `torch.load`, it is generally not recommended.\n",
    "\n",
    "Instead, save the state dict and upon loading instantiate the model and load the state dict. This is much better for forward compatibility.\n"
   ]
  },
  {
   "cell_type": "code",
   "execution_count": 51,
   "metadata": {},
   "outputs": [
    {
     "data": {
      "text/plain": [
       "<All keys matched successfully>"
      ]
     },
     "execution_count": 51,
     "metadata": {},
     "output_type": "execute_result"
    }
   ],
   "source": [
    "torch.save(model.state_dict(), 'saved_model.pt')\n",
    "sd = torch.load('saved_model.pt')\n",
    "model.load_state_dict(sd)\n"
   ]
  },
  {
   "cell_type": "markdown",
   "metadata": {
    "slideshow": {
     "slide_type": "slide"
    }
   },
   "source": [
    "## Some thoughts on functional vs. Module\n",
    "\n",
    "- If you write for re-use, the functional / Module split of PyTorch has turned out to be a good idea.\n",
    "\n",
    "- Use functional for stuff without state (unless you have a quick and dirty Sequential).\n",
    "\n",
    "- Never re-use modules (define one `torch.nn.ReLU` and use it 5 times). It's a trap!\n",
    "\n",
    "  When doing analysis or quantization (when `ReLU` becomes stateful due to quantization params), this will break.\n"
   ]
  },
  {
   "cell_type": "markdown",
   "metadata": {
    "slideshow": {
     "slide_type": "slide"
    }
   },
   "source": [
    "# PyTorch has ... optimizers\n",
    "\n",
    "In `torch.optim`.\n",
    "\n",
    "- Most common probably: `torch.optim.SGD`, `torch.optim.Adam`, but also `torch.optim.LBFGS` etc.\n",
    "- Schedules for the learning are also available.\n",
    "\n",
    "Pattern:\n",
    "- `loss = ...`\n",
    "- `opt.zero_grad()`\n",
    "- `loss.backward()`\n",
    "- `opt.step()`\n",
    "\n",
    "Optimizers also have a `state_dict` for saving / restoring."
   ]
  },
  {
   "cell_type": "markdown",
   "metadata": {
    "slideshow": {
     "slide_type": "slide"
    }
   },
   "source": [
    "Let's see that in action with our toy model:"
   ]
  },
  {
   "cell_type": "code",
   "execution_count": 52,
   "metadata": {
    "slideshow": {
     "slide_type": "-"
    }
   },
   "outputs": [],
   "source": [
    "model = torch.nn.Sequential(\n",
    "            torch.nn.Linear(1, 10),\n",
    "            torch.nn.Tanh(),\n",
    "            torch.nn.Linear(10, 1))\n",
    "\n",
    "opt = torch.optim.SGD(model.parameters(), lr=1e-2)\n",
    "\n",
    "for i in range(200):\n",
    "    x = torch.randn(10, 1)    # input  from dataset\n",
    "    target = torch.sin(2 * x) # target from dataset\n",
    "\n",
    "    pred = model(x)\n",
    "    loss = torch.nn.functional.mse_loss(pred, target, reduction='sum')\n",
    "    \n",
    "    opt.zero_grad()\n",
    "    loss.backward()\n",
    "    opt.step()"
   ]
  },
  {
   "cell_type": "code",
   "execution_count": 53,
   "metadata": {
    "slideshow": {
     "slide_type": "slide"
    }
   },
   "outputs": [
    {
     "data": {
      "image/png": "[encoded data removed]",
      "text/plain": [
       "<Figure size 432x288 with 1 Axes>"
      ]
     },
     "metadata": {
      "needs_background": "light"
     },
     "output_type": "display_data"
    }
   ],
   "source": [
    "with torch.no_grad():\n",
    "    x0 = torch.linspace(-2, 2)\n",
    "    pyplot.plot(x0, model(x0[:, None]).detach(), alpha=0.3)\n",
    "    pyplot.plot(x0, torch.sin(2 * x0), linewidth=5)"
   ]
  },
  {
   "cell_type": "markdown",
   "metadata": {
    "slideshow": {
     "slide_type": "slide"
    }
   },
   "source": [
    "# PyTorch has ... utilities for data handling\n",
    "\n",
    "PyTorch splits data handling in two parts:\n",
    "- Problem specific (DataSet)\n",
    "- Generic, e.g. Sampling, Batching (DataLoader)\n",
    "\n",
    "User's responsibility: Define `torch.utils.data.DataSet` subclass with\n",
    "- a `__len__` method (how many data points)\n",
    "- a `__getitem__` method to get the `i`th element, returning tuples of numbers and tensors\n",
    "\n",
    "`DataLoader` is more or less universal. In several parallel processes, get items from dataset and assemble\n",
    "them into batches (for numbers, tensors, make tensors, for other things, lists)."
   ]
  },
  {
   "cell_type": "markdown",
   "metadata": {
    "slideshow": {
     "slide_type": "slide"
    }
   },
   "source": [
    "Let's try that:"
   ]
  },
  {
   "cell_type": "code",
   "execution_count": 54,
   "metadata": {
    "scrolled": true,
    "slideshow": {
     "slide_type": "-"
    }
   },
   "outputs": [
    {
     "name": "stdout",
     "output_type": "stream",
     "text": [
      "tensor([[ 0.2976,  1.5696,  0.8601,  0.9776, -0.0787],\n",
      "        [ 1.1655, -0.3452, -0.2399,  2.2645,  1.3088],\n",
      "        [ 1.7672,  2.5784,  3.2223,  3.0295,  2.1929],\n",
      "        [ 9.5243,  5.8201,  5.7739,  6.7126,  7.6045],\n",
      "        [-0.7799, -0.0703,  0.5571,  0.4670, -0.7049],\n",
      "        [ 5.1953,  5.5916,  3.6525,  6.3894,  4.5062],\n",
      "        [ 3.4630,  6.6136,  6.8916,  5.1539,  5.8120],\n",
      "        [ 6.5675,  7.2459,  6.8618,  5.1527,  7.5645]]) tensor([1, 1, 2, 7, 0, 5, 6, 7])\n"
     ]
    }
   ],
   "source": [
    "import torch.utils.data\n",
    "class DS(torch.utils.data.Dataset):\n",
    "    def __init__(self, shape):\n",
    "        self.shape = shape\n",
    "    def __len__(self):\n",
    "        return 100\n",
    "    def __getitem__(self, i):\n",
    "        return (i % 10 + torch.randn(self.shape), i % 10) # observation and label\n",
    "    \n",
    "ds = DS((5,))\n",
    "dl = torch.utils.data.DataLoader(ds, batch_size=8, shuffle=True)\n",
    "\n",
    "for inp, label in dl:\n",
    "    print(inp, label)\n",
    "    break"
   ]
  },
  {
   "cell_type": "markdown",
   "metadata": {
    "slideshow": {
     "slide_type": "slide"
    }
   },
   "source": [
    "What happened here?\n",
    "\n",
    "The DataLoader provides an iterator and for each iteration\n",
    "\n",
    "- requested elements from the dataset,\n",
    "- took the 1d `5`-tensors and `stack`ed them to a 2d `batchsize x 5` tensor,\n",
    "- took the integers and put them into a 1d `batchsize` tensor.\n",
    "- gives the tuple of input and label to the for loop.\n",
    "\n",
    "**Good to know**: If `batchsize` does not divide `len(ds)`, the last batch will be shorter. This can be troublesome (e.g. batch norm running with a batch size of 1), so you have the `drop_last` optional command to just skip this minibatch."
   ]
  },
  {
   "cell_type": "markdown",
   "metadata": {
    "slideshow": {
     "slide_type": "slide"
    }
   },
   "source": [
    "## Practical data aquisition\n",
    "\n",
    "Datasets, Dataloaders and utility functions:\n",
    "\n",
    "TorchVision, TorchAudio, TorchIO (medical data)\n",
    "\n",
    "HuggingFace's Transformers for text (at a high level), TorchText, TorchNLP\n",
    "\n",
    "Pretrained models:\n",
    "- Vision: TorchVision, PyTorch Imaging Models (TIMM)\n",
    "- NLP: Transformers library\n",
    "\n",
    "...and on individual projects.\n"
   ]
  },
  {
   "cell_type": "markdown",
   "metadata": {
    "slideshow": {
     "slide_type": "slide"
    }
   },
   "source": [
    "# PyTorch is ... much more\n",
    "\n",
    "We skipped `torch.distributions`, `distributed`, automatic mixed precision and more PyTorch has to offer. Check out the tutorials on PyTorch.org.\n",
    "\n",
    "## Forums\n",
    "\n",
    "Forums at [discuss.pytorch.org](https://discuss.pytorch.org/) probably are the best source of casual help, with a number of core developers also keeping an eye for the advanced questions. (I'm @tom there.)\n",
    "\n",
    "## Wider Ecosystem\n",
    "\n",
    "Libraries for many classes of models building on PyTorch (not complete)\n",
    "\n",
    "- Immediate \"Satellites\" like TorchVision, TorchAudio, TorchText, TorchServing\n",
    "- Extending capabilities: PyTorch Imaging Models (timm), Transformers, PyTorch-NLP, Graph NNs, Gaussian Processes, Pyro (Probabilistic)\n",
    "- Training helpers"
   ]
  },
  {
   "cell_type": "markdown",
   "metadata": {
    "slideshow": {
     "slide_type": "slide"
    }
   },
   "source": [
    "# Part II: How can we make programs in PyTorch fast?\n",
    "\n",
    "### Model optimization\n",
    "\n",
    "  - Efficient modelling\n",
    "  - Slow things and fast things in GPU computing\n",
    "  - Beyond the model\n",
    "  - Measuring in PyTorch (Benchmarking)\n",
    "  - Fusion and automatic optimization\n",
    "  - Live speedup of a model\n",
    "  "
   ]
  },
  {
   "cell_type": "markdown",
   "metadata": {
    "slideshow": {
     "slide_type": "slide"
    }
   },
   "source": [
    "# Efficient modelling\n",
    "\n",
    "remember that modelling does have a huge lever regarding efficiency<br/>\n",
    "**if you care about efficiency make your model large but as small as possible**\n",
    "\n",
    "<table>\n",
    "    <tr>\n",
    "        <td>\n",
    "Millions of parameters vs. timeline for the popular transformer models\n",
    "<img src=\"distilbert.png\" width=\"80%\" />\n",
    "        </td>\n",
    "        <td><img src=\"efficientnet_flops.png\" width=\"80%\" /></td>\n",
    "    </tr>\n",
    "    <tr><td>\n",
    "Source: V. Sanh (Huggingface), DistilBERT\n",
    "        </td><td>Source: M. Tan, Q. Le: EfficientNet: Rethinking Model Scaling for Convolutional Neural Networks</td></tr>\n",
    "</table>\n"
   ]
  },
  {
   "cell_type": "markdown",
   "metadata": {
    "slideshow": {
     "slide_type": "slide"
    }
   },
   "source": [
    "### Slow things and fast things in GPU computing\n",
    "\n",
    "The \"what\" typically should be the first optimization target,\n",
    "in terms of overall modelling and also computational algorithms.\n",
    "\n",
    "But when we fix the task (\"what\"), how can we optimize?\n",
    "\n",
    "Conventional wisdom: **Python is slow**\n",
    "\n",
    "- certainly, Python isn't fast (`for` loop vs C++ `for` loop)\n",
    "- in practice, more often than not, Python isn't the bottleneck\n"
   ]
  },
  {
   "cell_type": "markdown",
   "metadata": {
    "slideshow": {
     "slide_type": "slide"
    }
   },
   "source": [
    "### How PyTorch programs spend their time\n",
    "\n",
    "At a very high level, you can divide time spent into these parts:\n",
    "- Python program flow,\n",
    "- Data \"administrative overhead\" (creating `Tensor` data structures, autograd `Node`s etc.),\n",
    "- Data aquisition (I/O),\n",
    "- Computation roughly as\n",
    "  - fixed overhead (kernel launches etc.),\n",
    "  - reading / writing memory,\n",
    "  - \"real computation\",\n",
    "\n",
    "**Thomas' rule of thumb**: As long as your operands are reasonably large (say 100s of elements, not single elements), Python and Data \"administrative overhead\" probably isn't your main problem."
   ]
  },
  {
   "cell_type": "markdown",
   "metadata": {
    "slideshow": {
     "slide_type": "slide"
    }
   },
   "source": [
    "### Data aquisition and I/O\n",
    "\n",
    "Using `Dataset` / `DataLoader` is simple, but keep in mind that it can greatly impact performance.\n",
    "\n",
    "How do you detect this? If, during training, your GPU is not constantly fully used (shown by `*smi` tools), you have a CPU bottleneck somewhere, and the data loading is one thing to check.\n",
    "\n",
    "- If more cores help, there is the `num_workers` argument to the dataloader.\n",
    "- Fast hardware helps: SSD vs. HDD.\n",
    "- If you can do preprocessing beforehand (no augmentation), try that. (But careful, I/O is often more expensive than processing.)\n",
    "- If you can do preprocessing on the GPU instead (augmentation in particular), do that.\n",
    "- Sometimes it helps to put tensors into _GPU pinned memory_, with the `pin_memory` argument for the DataLoader."
   ]
  },
  {
   "cell_type": "markdown",
   "metadata": {
    "slideshow": {
     "slide_type": "slide"
    }
   },
   "source": [
    "### Computation\n",
    "\n",
    "Computation with CPU and GPU includes synchronization\n",
    "- GPU waits for the CPU (i.e. GPU sits idle when it should be used),\n",
    "- CPU waits for the GPU (to get the results) aka synchronization points\n",
    "\n",
    "  - GPU computation is and shold be ansynchronous, but\n",
    "  - Synchronizations can happen because the program needs to know something (e.g. sizes of tensors depending on the input). Often, these are unavoidable.\n",
    "  - Typical sources of spurious synchronizations are too frequent \n",
    "    `.to(device=\"cpu\")`, `.item()`, `.to_list()`, `print`.\n",
    "- in distributed settings synchronization between nodes.\n",
    "\n",
    "Typical indication: GPU utilization is bad. While your program runs, check e.g. `nvidia-smi` (or `rocm-smi`)."
   ]
  },
  {
   "cell_type": "markdown",
   "metadata": {
    "slideshow": {
     "slide_type": "slide"
    }
   },
   "source": [
    "## Your program is more than your model\n",
    "\n",
    "Typical steps:\n",
    "\n",
    "- Data loading / augmentation\n",
    "- Running the models\n",
    "- Processing intermediate results\n",
    "- postprocessing, logging\n",
    "\n",
    "As quite a lot of these do not involve the GPU (before optimization...), again check GPU utilization for first hints."
   ]
  },
  {
   "cell_type": "markdown",
   "metadata": {
    "slideshow": {
     "slide_type": "slide"
    }
   },
   "source": [
    "# Measurement and benchmarking\n",
    "\n",
    "One of my informal mottos is _It's not optimization until you measure_. \n",
    "\n",
    "When you think about code being slow, it's important to figure out what is slow and why.\n",
    "To my mind, a lot of measurement can be done with very basic tools, e.g. IPython's `%timeit` magic.\n",
    "\n",
    "Important rules when timing:\n",
    "- If we want to time GPU kernels from CPU, we want to be sure to synchronize before taking the start and end times.\n",
    "- Typically, we also want to have some \"warm-up\", i.e. run the measured function\n",
    "  for a few times before timing to avoid measuring one-off overheads.\n",
    "- Always use a mononic clock (`time.perf_counter()` instead of ~~`time.time()`~~).\n",
    "- Try to cover everything of interest (s.t. wall-clock-time ≈ total measured).\n",
    "- Turn off powermanagement and make sure there is no thermal throtteling...\n"
   ]
  },
  {
   "cell_type": "markdown",
   "metadata": {
    "slideshow": {
     "slide_type": "slide"
    }
   },
   "source": [
    "### First practical example from the wild\n",
    "\n",
    "Here is how one might use `%timeit` for a \"microbenchmark\".\n",
    "Here, we change the computation strategy for a given function.\n",
    "\n",
    "Let's take the uniformity loss from [Wang and Isola: Understanding Contrastive Representation Learning through Alignment and Uniformity on the Hypersphere](https://arxiv.org/abs/2005.10242) (a great paper!).\n",
    "\n",
    "The Uniformity loss is defined as a function of the pairwise distances over a largish set of vectors.\n"
   ]
  },
  {
   "cell_type": "code",
   "execution_count": 95,
   "metadata": {
    "slideshow": {
     "slide_type": "-"
    }
   },
   "outputs": [
    {
     "data": {
      "text/plain": [
       "tensor(-3.9382, device='cuda:0', grad_fn=<LogBackward0>)"
      ]
     },
     "execution_count": 95,
     "metadata": {},
     "output_type": "execute_result"
    }
   ],
   "source": [
    "def lunif(x, t=2): # copied from the paper\n",
    "    sq_pdist = torch.pdist(x, p=2).pow(2)\n",
    "    return sq_pdist.mul(-t).exp().mean().log()\n",
    "\n",
    "x = torch.randn(1024, 128, device=\"cuda\")\n",
    "x /= x.norm(p=2, dim=1, keepdim=True).requires_grad_()\n",
    "\n",
    "lunif(x)"
   ]
  },
  {
   "cell_type": "markdown",
   "metadata": {
    "slideshow": {
     "slide_type": "slide"
    }
   },
   "source": [
    "One would think that the specialised `pdist` function is the right tool for the job.\n",
    "But is it? Let's time it."
   ]
  },
  {
   "cell_type": "code",
   "execution_count": 97,
   "metadata": {
    "slideshow": {
     "slide_type": "-"
    }
   },
   "outputs": [
    {
     "name": "stdout",
     "output_type": "stream",
     "text": [
      "8.99 ms ± 21 µs per loop (mean ± std. dev. of 7 runs, 100 loops each)\n"
     ]
    }
   ],
   "source": [
    "def totime(fn):\n",
    "    l = fn(x)\n",
    "    g, = torch.autograd.grad(l, x)\n",
    "    torch.cuda.synchronize()\n",
    "\n",
    "totime(lunif) # warmup\n",
    "%timeit totime(lunif)"
   ]
  },
  {
   "cell_type": "markdown",
   "metadata": {
    "slideshow": {
     "slide_type": "slide"
    }
   },
   "source": [
    "Let's use $|x-y|^2 = |x|^2 + |y|^2 - 2 <x, y>$ and compare."
   ]
  },
  {
   "cell_type": "code",
   "execution_count": 98,
   "metadata": {
    "slideshow": {
     "slide_type": "-"
    }
   },
   "outputs": [
    {
     "name": "stdout",
     "output_type": "stream",
     "text": [
      "0.0\n",
      "627 µs ± 5.08 µs per loop (mean ± std. dev. of 7 runs, 1000 loops each)\n"
     ]
    }
   ],
   "source": [
    "def lunif2(x, t=2):\n",
    "    t=2\n",
    "    xnorm = torch.norm(x, p=2, dim=1).pow(2)\n",
    "    sq_pdist = xnorm[None] + xnorm[:, None] - 2 * torch.mm(x, x.t())\n",
    "    exp = sq_pdist.mul(-t).exp().tril(diagonal=-1)\n",
    "    N = x.size(0)\n",
    "    res = exp.sum().mul(2/(N*N-N)).log()\n",
    "    return res\n",
    "\n",
    "print((lunif2(x.to(torch.double)) - lunif(x.to(torch.double))).item())\n",
    "\n",
    "totime(lunif2)\n",
    "%timeit totime(lunif2)"
   ]
  },
  {
   "cell_type": "markdown",
   "metadata": {
    "slideshow": {
     "slide_type": "-"
    }
   },
   "source": [
    "Even though we have stark inefficiencies (like taking tril and taking a copy to do so), this is almost an order of magnitude faster!\n",
    "\n",
    "In older PyTorch l argely due to backward of `pdist` implementation, now the forward is more expensive (it is very hard to beat the well-tuned matrix multiplaction from libraries)."
   ]
  },
  {
   "cell_type": "markdown",
   "metadata": {
    "slideshow": {
     "slide_type": "slide"
    }
   },
   "source": [
    "### Profiling in PyTorch\n",
    "\n",
    "Manual instrumentation works great, but to get a thorough view, PyTorch also has a profiler.\n"
   ]
  },
  {
   "cell_type": "code",
   "execution_count": 102,
   "metadata": {
    "slideshow": {
     "slide_type": "-"
    }
   },
   "outputs": [
    {
     "name": "stdout",
     "output_type": "stream",
     "text": [
      "-------------------------------------------------------  ------------  ------------  ------------  ------------  ------------  ------------  ------------  ------------  ------------  ------------  \n",
      "                                                   Name    Self CPU %      Self CPU   CPU total %     CPU total  CPU time avg     Self CUDA   Self CUDA %    CUDA total  CUDA time avg    # of Calls  \n",
      "-------------------------------------------------------  ------------  ------------  ------------  ------------  ------------  ------------  ------------  ------------  ------------  ------------  \n",
      "                                              aten::mul         9.99%      10.785ms        16.98%      18.326ms      16.660us       6.548ms        26.74%       6.548ms       5.953us          1100  \n",
      "                                               aten::mm         8.37%       9.039ms        12.30%      13.276ms      44.253us       5.731ms        23.41%       5.731ms      19.103us           300  \n",
      "void at::native::vectorized_elementwise_kernel<4, at...         0.00%       0.000us         0.00%       0.000us       0.000us       4.687ms        19.14%       4.687ms       5.859us           800  \n",
      "                                              aten::sum         4.95%       5.345ms         8.35%       9.013ms      30.043us       2.908ms        11.88%       2.908ms       9.693us           300  \n",
      "void at::native::vectorized_elementwise_kernel<4, at...         0.00%       0.000us         0.00%       0.000us       0.000us       2.225ms         9.09%       2.225ms       5.562us           400  \n",
      "-------------------------------------------------------  ------------  ------------  ------------  ------------  ------------  ------------  ------------  ------------  ------------  ------------  \n",
      "Self CPU time total: 107.957ms\n",
      "Self CUDA time total: 24.485ms\n",
      "\n"
     ]
    }
   ],
   "source": [
    "totime(lunif) # warmup\n",
    "with torch.profiler.profile() as prof:\n",
    "    for i in range(100):\n",
    "        totime(lunif2)\n",
    "\n",
    "print(prof.key_averages().table(sort_by='self_cuda_time_total', row_limit=5))\n"
   ]
  },
  {
   "cell_type": "markdown",
   "metadata": {
    "slideshow": {
     "slide_type": "slide"
    }
   },
   "source": [
    "Sometimes just the ops is not enough, but we want to know from where they are called"
   ]
  },
  {
   "cell_type": "code",
   "execution_count": 100,
   "metadata": {},
   "outputs": [
    {
     "name": "stdout",
     "output_type": "stream",
     "text": [
      "-------------------------------------------------------  ------------  ------------  ------------  ------------  ------------  ------------  ------------  ------------  ------------  ------------  ---------------------------------------------------------------------------  \n",
      "                                                   Name    Self CPU %      Self CPU   CPU total %     CPU total  CPU time avg     Self CUDA   Self CUDA %    CUDA total  CUDA time avg    # of Calls  Source Location                                                              \n",
      "-------------------------------------------------------  ------------  ------------  ------------  ------------  ------------  ------------  ------------  ------------  ------------  ------------  ---------------------------------------------------------------------------  \n",
      "                                               aten::mm         5.48%      10.320ms         8.26%      15.546ms      51.820us       5.782ms        23.56%       5.782ms      19.273us           300  <ipython-input-98-e57378f93fa7>(4): lunif2                                   \n",
      "                                                                                                                                                                                                     <ipython-input-97-94e95eef1b8c>(2): totime                                   \n",
      "                                                                                                                                                                                                                                                                                  \n",
      "void at::native::vectorized_elementwise_kernel<4, at...         0.00%       0.000us         0.00%       0.000us       0.000us       4.695ms        19.13%       4.695ms       5.869us           800                                                                               \n",
      "                                                                                                                                                                                                                                                                                  \n",
      "                                              aten::mul         1.78%       3.356ms         3.13%       5.895ms      19.650us       2.840ms        11.57%       2.840ms       9.467us           300  <ipython-input-98-e57378f93fa7>(5): lunif2                                   \n",
      "                                                                                                                                                                                                     <ipython-input-97-94e95eef1b8c>(2): totime                                   \n",
      "                                                                                                                                                                                                                                                                                  \n",
      "                                              aten::mul         2.14%       4.026ms         3.44%       6.487ms      21.623us       2.485ms        10.12%       2.485ms       8.283us           300  <ipython-input-98-e57378f93fa7>(4): lunif2                                   \n",
      "                                                                                                                                                                                                     <ipython-input-97-94e95eef1b8c>(2): totime                                   \n",
      "                                                                                                                                                                                                                                                                                  \n",
      "void at::native::vectorized_elementwise_kernel<4, at...         0.00%       0.000us         0.00%       0.000us       0.000us       2.225ms         9.06%       2.225ms       5.562us           400                                                                               \n",
      "                                                                                                                                                                                                                                                                                  \n",
      "-------------------------------------------------------  ------------  ------------  ------------  ------------  ------------  ------------  ------------  ------------  ------------  ------------  ---------------------------------------------------------------------------  \n",
      "Self CPU time total: 188.311ms\n",
      "Self CUDA time total: 24.545ms\n",
      "\n"
     ]
    }
   ],
   "source": [
    "totime(lunif2) # warmup\n",
    "with torch.profiler.profile(with_stack=True) as prof:\n",
    "    for i in range(100):\n",
    "        totime(lunif2)\n",
    "\n",
    "print(prof.key_averages(group_by_stack_n=2).table(sort_by='self_cuda_time_total', row_limit=5))"
   ]
  },
  {
   "attachments": {
    "image-3.png": {
     "image/png": "[encoded data removed]"
    }
   },
   "cell_type": "markdown",
   "metadata": {
    "slideshow": {
     "slide_type": "slide"
    }
   },
   "source": [
    "### Profiler - Export trace to chrome for inspection\n",
    "\n",
    "the web browser has a great viewer for profiling data:\n",
    "![image-3.png](attachment:image-3.png)"
   ]
  },
  {
   "cell_type": "code",
   "execution_count": 103,
   "metadata": {},
   "outputs": [],
   "source": [
    "prof.export_chrome_trace('example_trace.json')"
   ]
  },
  {
   "cell_type": "markdown",
   "metadata": {
    "slideshow": {
     "slide_type": "slide"
    }
   },
   "source": [
    "# Live speedup of a model\n",
    "\n",
    "We speed up a model I came across last week.\n",
    "I have rearranged the training loop but left computation unchanged.\n",
    "\n",
    "We will be using the [Grapevine leaf dataset](https://www.kaggle.com/maximvlah/grapevine-leaves) (c) 2021 by Maxim Vlah and licensed CC BY-NC-SA 4.0, used with permission here.\n",
    "\n",
    "I cannot emphasize enough that while we will get considerable speedups, assembling and releasing a useful dataset is an awesome accomplishment and the model as provided is completely \"fit for purpose\" as a demo of the dataset. Thank you Maxim!"
   ]
  },
  {
   "cell_type": "markdown",
   "metadata": {
    "slideshow": {
     "slide_type": "slide"
    }
   },
   "source": [
    "## Summary of our optimization steps\n",
    "\n",
    "Optimization steps (timings from the rehersal, computer is a Ryzen 5950 w. GTX3090):\n",
    "- Measure (`time.perf_counter`, `torch.profiler.profile`). 3 epochs in approx. 67 seconds\n",
    "- Move to SSD. 65 seconds\n",
    "- num_workers 17.5 seconds\n",
    "- move augmentation to GPU 13.5 seconds\n",
    "- pre-scale images 7.6 seconds\n",
    "- load into memory 5.56 seconds\n",
    "- take away sync points 1.5-3 seconds"
   ]
  },
  {
   "cell_type": "markdown",
   "metadata": {
    "slideshow": {
     "slide_type": "slide"
    }
   },
   "source": [
    "### Hard Optimization\n",
    "\n",
    "...when your GPU is fully utilized, there might still be optimization potential (similar to the uniformity loss example).\n",
    "\n",
    "Remember that computation is roughly\n",
    "  - fixed overhead (kernel launches etc.),\n",
    "  - reading / writing memory,\n",
    "  - \"real computation\".\n",
    "\n",
    "Now, reading / writing memory typically is much slower than the computation (in registers).\n",
    "But every PyTorch operation loads tensors from memory, processes them, and writes them back.\n",
    "\n",
    "If we can do several operations at once, we can save a lot of time on the memory access!\n",
    "\n",
    "Let's try speeding things up. But if we will define our own kernels, we need to have a way to define the backwards for them, so enter `autograd.Function`s."
   ]
  },
  {
   "cell_type": "markdown",
   "metadata": {
    "slideshow": {
     "slide_type": "slide"
    }
   },
   "source": [
    "## Own Autograd functions\n",
    "\n",
    "Let's consider $f : \\mathbb{R}^n \\rightarrow \\mathbb{R}^m$ implicitly given by $F(x,f(x))=0$ for some function $F : \\mathbb{R}^n \\times \\mathbb{R}^m \\rightarrow \\mathbb{R}$.\n",
    "\n",
    "For nice (smooth, nondegenerate) functions, the [implicit function theorem](https://en.wikipedia.org/wiki/Implicit_function_theorem)\n",
    "gives us:\n",
    "\n",
    "Given $x,y$ such that $F(x,y) = 0$ there is a neighborhood $U\\ni x$ and a function $f$ such that $f(x)=y$ and $F(x,f(x))=0$. And if $F$ is nice enough, we can also compute the derivative of $f$ at $x$, namely  $\\frac{df}{dx}(x) = - (\\frac{dF}{dy}(x,y))^{-1} \\frac{dF}{dx}(x,y)$.\n",
    "\n",
    "Given $F$ in PyTorch, can we define $f$ and backpropagate through the computation?\n",
    "\n",
    "$\\Rightarrow$ Need to extend autograd."
   ]
  },
  {
   "cell_type": "code",
   "execution_count": 1,
   "metadata": {
    "slideshow": {
     "slide_type": "slide"
    }
   },
   "outputs": [],
   "source": [
    "import torch\n",
    "class Implicit(torch.autograd.Function):  # derive autograd.Function\n",
    "    @staticmethod\n",
    "    def forward(ctx, x, y0, F, max_iter=100):  # Context ctx as special first parameter to static method forward\n",
    "        with torch.enable_grad():\n",
    "            y = y0.clone().detach().requires_grad_()\n",
    "            xv = x.detach()\n",
    "            opt = torch.optim.LBFGS([y], max_iter=max_iter)  # numerical search for y s.t. F(x, y) = 0\n",
    "            def reevaluate():\n",
    "                opt.zero_grad()\n",
    "                z = F(xv,y)**2\n",
    "                z.backward()\n",
    "                return z\n",
    "            opt.step(reevaluate)\n",
    "        ctx._the_function = F                 # save non-tensors\n",
    "        ctx.save_for_backward(x, y)           # safely save tensors\n",
    "        return y\n",
    "    @staticmethod\n",
    "    def backward(ctx, output_grad):          # ouput_grad = dl / dy\n",
    "        x, y = ctx.saved_tensors             # get the saved tensors\n",
    "        F = ctx._the_function                # other arguments\n",
    "        with torch.enable_grad():\n",
    "            xv = x.detach().requires_grad_()\n",
    "            y = y.detach().requires_grad_()\n",
    "            z = F(xv,y)\n",
    "            z.backward()\n",
    "        return -xv.grad/y.grad*output_grad, None, None, None  # return dl / dx and None for all other inputs\n"
   ]
  },
  {
   "cell_type": "markdown",
   "metadata": {
    "slideshow": {
     "slide_type": "slide"
    }
   },
   "source": [
    "Let's try it on a simple case:"
   ]
  },
  {
   "cell_type": "code",
   "execution_count": 2,
   "metadata": {
    "scrolled": true,
    "slideshow": {
     "slide_type": "-"
    }
   },
   "outputs": [
    {
     "name": "stdout",
     "output_type": "stream",
     "text": [
      "tensor([0.8660], dtype=torch.float64, grad_fn=<ImplicitBackward>) 0.8660254037844386\n"
     ]
    },
    {
     "data": {
      "text/plain": [
       "(tensor([-0.5774], dtype=torch.float64),\n",
       " tensor([-0.5774], dtype=torch.float64))"
      ]
     },
     "execution_count": 2,
     "metadata": {},
     "output_type": "execute_result"
    }
   ],
   "source": [
    "def circle(x,y):\n",
    "    return x**2+y**2-1  # 0-set = unit circle\n",
    "\n",
    "x = torch.tensor([0.5], dtype=torch.double, requires_grad=True)\n",
    "y0 = torch.tensor([0.5], dtype=torch.double) # starting value\n",
    "y= Implicit.apply(x, y0, circle)    # this is how to use our new function\n",
    "print (y, (1-0.5**2)**0.5)\n",
    "gr, = torch.autograd.grad(y, x)\n",
    "gr_exp, = torch.autograd.grad((1-x**2)**0.5, [x])\n",
    "gr, gr_exp"
   ]
  },
  {
   "cell_type": "markdown",
   "metadata": {
    "slideshow": {
     "slide_type": "-"
    }
   },
   "source": [
    "We could now backpropagate through it, too. And we can focus on the compute for optimization, as we can connect forward and backward now."
   ]
  },
  {
   "cell_type": "markdown",
   "metadata": {
    "slideshow": {
     "slide_type": "slide"
    }
   },
   "source": [
    "# Back to optimization\n",
    "\n",
    "## Example: Intersection over Union measure\n",
    "\n",
    "\n",
    "<img src=\"iou.svg\" style=\"float: right;\" />\n",
    "\n",
    "...for detection models.\n",
    "\n",
    "Many elementwise operations. Usually PyTorch executes them one by one, reading input from memory and writing back outputs.\n",
    "\n",
    "By fusing this into a single GPU kernel, we can save all that.\n"
   ]
  },
  {
   "cell_type": "code",
   "execution_count": 4,
   "metadata": {
    "slideshow": {
     "slide_type": "slide"
    }
   },
   "outputs": [],
   "source": [
    "def ratio_iou(x1, y1, w1, h1, x2, y2, w2, h2):\n",
    "    xi = torch.max(x1, x2)                                # Intersection (yi similarly)\n",
    "    yi = torch.max(y1, y2)                                # Intersection (yi similarly)\n",
    "    wi = torch.clamp(torch.min(x1+w1, x2+w2) - xi, min=0)\n",
    "    hi = torch.clamp(torch.min(y1+h1, y2+h2) - yi, min=0)\n",
    "    area_i = wi * hi                                      # Area Intersection\n",
    "    area_u = w1 * h1 + w2 * h2 - area_i                   # Area Union\n",
    "    return area_i / torch.clamp(area_u, min=1e-5)\n",
    "\n"
   ]
  },
  {
   "cell_type": "markdown",
   "metadata": {
    "slideshow": {
     "slide_type": "slide"
    }
   },
   "source": [
    "# Dropping to C++ as a speedup?\n",
    "\n",
    "You heard my rule of thumb (if your operands are 100s of elements, Python overhead is not you main problem), but here we go."
   ]
  },
  {
   "cell_type": "code",
   "execution_count": 6,
   "metadata": {},
   "outputs": [
    {
     "name": "stdout",
     "output_type": "stream",
     "text": [
      "Using /home/tv/.cache/torch_extensions/py39_cu113 as PyTorch extensions root...\n",
      "No modifications detected for re-loaded extension module libsuperiou, skipping build step...\n",
      "Loading extension module libsuperiou...\n"
     ]
    }
   ],
   "source": [
    "import torch.utils.cpp_extension\n",
    "\n",
    "csrc = \"\"\"\n",
    "#include <torch/script.h>\n",
    "\n",
    "using namespace torch;\n",
    "\n",
    "Tensor iou_native(const Tensor& x1, const Tensor& y1, const Tensor& w1, const Tensor& h1,\n",
    "                  const Tensor& x2, const Tensor& y2, const Tensor& w2, const Tensor& h2) {\n",
    "\n",
    "    auto xi = torch::max(x1, x2);\n",
    "    auto yi = torch::max(y1, y2);\n",
    "    auto wi = torch::clamp(torch::min(x1+w1, x2+w2) - xi, 0);\n",
    "    auto hi = torch::clamp(torch::min(y1+h1, y2+h2) - yi, 0);\n",
    "    auto area_i = wi * hi;\n",
    "    auto area_u = w1 * h1 + w2 * h2 - area_i;\n",
    "    return area_i / torch::clamp(area_u, 1e-5);\n",
    "}\n",
    "\n",
    "\n",
    "PYBIND11_MODULE(TORCH_EXTENSION_NAME, m) {\n",
    "  m.def(\"iou_native\", &iou_native, \"Intersection over union\");\n",
    "}\n",
    "\n",
    "\"\"\"\n",
    "\n",
    "super_iou = torch.utils.cpp_extension.load_inline(\"libsuperiou\", csrc, is_python_module=True, verbose=True)"
   ]
  },
  {
   "cell_type": "markdown",
   "metadata": {
    "slideshow": {
     "slide_type": "slide"
    }
   },
   "source": [
    "# Let's look at the numbers...\n"
   ]
  },
  {
   "cell_type": "code",
   "execution_count": 7,
   "metadata": {},
   "outputs": [
    {
     "name": "stdout",
     "output_type": "stream",
     "text": [
      "84.5 µs ± 159 ns per loop (mean ± std. dev. of 7 runs, 10000 loops each)\n",
      "82 µs ± 100 ns per loop (mean ± std. dev. of 7 runs, 10000 loops each)\n"
     ]
    }
   ],
   "source": [
    "x1, y1, w1, h1, x2, y2, w2, h2 = torch.randn(8, 100, 1000, device='cuda').exp()\n",
    "# check that it works, this is one of the rare places I compare with \"==\"\n",
    "assert (ratio_iou(x1, y1, w1, h1, x2, y2, w2, h2)==super_iou.iou_native(x1, y1, w1, h1, x2, y2, w2, h2)).all().item()\n",
    "\n",
    "def taketime(fn):\n",
    "    _ = fn(x1, y1, w1, h1, x2, y2, w2, h2)\n",
    "    torch.cuda.synchronize()\n",
    "\n",
    "torch.cuda.synchronize()\n",
    "%timeit taketime(ratio_iou)\n",
    "%timeit taketime(super_iou.iou_native)\n"
   ]
  },
  {
   "cell_type": "code",
   "execution_count": 8,
   "metadata": {
    "slideshow": {
     "slide_type": "slide"
    }
   },
   "outputs": [],
   "source": [
    "# but if we do our own CUDA kernels...\n",
    "csrc = \"\"\"\n",
    "#include <torch/extension.h>\n",
    "#include <ATen/Parallel.h>\n",
    "#include <ATen/TensorAccessor.h>\n",
    "\n",
    "using namespace torch;\n",
    "\n",
    "// The cuda kernel is easy enough\n",
    "template<typename scalar_t>\n",
    "__global__ void iou_kernel_gpu(PackedTensorAccessor32<scalar_t, 1> result,\n",
    "                          PackedTensorAccessor32<scalar_t, 1> x1,\n",
    "                          PackedTensorAccessor32<scalar_t, 1> y1,\n",
    "                          PackedTensorAccessor32<scalar_t, 1> w1,\n",
    "                          PackedTensorAccessor32<scalar_t, 1> h1,\n",
    "                          PackedTensorAccessor32<scalar_t, 1> x2,\n",
    "                          PackedTensorAccessor32<scalar_t, 1> y2,\n",
    "                          PackedTensorAccessor32<scalar_t, 1> w2,\n",
    "                          PackedTensorAccessor32<scalar_t, 1> h2\n",
    "                          ) {\n",
    "    int i = threadIdx.x + blockDim.x * blockIdx.x;\n",
    "    if (i >= x1.size(0)) // we might have more threads than work to do in the last block\n",
    "      return;\n",
    "    // This should look very familiar. We could try reading each element only once, but let's keep it simple.\n",
    "    scalar_t xi = max(x1[i], x2[i]);\n",
    "    scalar_t yi = max(y1[i], y2[i]);\n",
    "    scalar_t wi = max(min(x1[i]+w1[i], x2[i]+w2[i]) - xi, static_cast<scalar_t>(0));\n",
    "    scalar_t hi = max(min(y1[i]+h1[i], y2[i]+h2[i]) - yi, static_cast<scalar_t>(0));\n",
    "    scalar_t area_i = wi * hi;\n",
    "    scalar_t area_u = w1[i] * h1[i] + w2[i] * h2[i] - area_i;\n",
    "    result[i] = area_i / max(area_u, static_cast<scalar_t>(0.00001f));\n",
    "}\n",
    "\n",
    "// The CPU kernel is looks similar, we could also just put it in the main function...\n",
    "template<typename scalar_t>\n",
    "void iou_kernel_cpu(int64_t size,\n",
    "                    scalar_t* result,\n",
    "                    scalar_t* x1,\n",
    "                    scalar_t* y1,\n",
    "                    scalar_t* w1,\n",
    "                    scalar_t* h1,\n",
    "                    scalar_t* x2,\n",
    "                    scalar_t* y2,\n",
    "                    scalar_t* w2,\n",
    "                    scalar_t* h2) {\n",
    "\n",
    "    // we use CPU parallelization\n",
    "    constexpr int64_t GRAIN_SIZE = 8192; // minimum grain size for parallel execution\n",
    "    at::parallel_for(0, size, GRAIN_SIZE, [&](int64_t i_begin, int64_t i_end) {\n",
    "        for (int64_t i = i_begin; i < i_end; ++i) {\n",
    "            scalar_t xi = max(x1[i], x2[i]);\n",
    "            scalar_t yi = max(y1[i], y2[i]);\n",
    "            scalar_t wi = max(min(x1[i]+w1[i], x2[i]+w2[i]) - xi, static_cast<scalar_t>(0));\n",
    "            scalar_t hi = max(min(y1[i]+h1[i], y2[i]+h2[i]) - yi, static_cast<scalar_t>(0));\n",
    "            scalar_t area_i = wi * hi;\n",
    "            scalar_t area_u = w1[i] * h1[i] + w2[i] * h2[i] - area_i;\n",
    "            result[i] = area_i / max(area_u, static_cast<scalar_t>(0.00001f));\n",
    "        }\n",
    "    });\n",
    "}\n",
    "\n",
    "\n",
    "torch::Tensor iou_forward(const Tensor& x1, const Tensor& y1, const Tensor& w1, const Tensor& h1,\n",
    "                          const Tensor& x2, const Tensor& y2, const Tensor& w2, const Tensor& h2) {\n",
    "  auto res = torch::empty_like(x1);\n",
    "  for (auto& t : {x1, y1, w1, h1, x2, y2, w2, h2}) {\n",
    "     AT_ASSERTM(t.dim()==1 && t.size(0)==x1.size(0) && t.device()==x1.device() && t.dtype()==x1.dtype(),\n",
    "                \"tensors are not of same shape and kind\");\n",
    "  }\n",
    "  if (x1.is_cuda()) {\n",
    "    dim3 block(512);\n",
    "    dim3 grid((x1.size(0)+511)/512);\n",
    "    AT_DISPATCH_FLOATING_TYPES(x1.type(), \"iou\", [&] {\n",
    "      iou_kernel_gpu<scalar_t><<<grid,block>>>(res.packed_accessor32<scalar_t, 1>(),\n",
    "                              x1.packed_accessor32<scalar_t, 1>(),\n",
    "                              y1.packed_accessor32<scalar_t, 1>(),\n",
    "                              w1.packed_accessor32<scalar_t, 1>(),\n",
    "                              h1.packed_accessor32<scalar_t, 1>(),\n",
    "                              x2.packed_accessor32<scalar_t, 1>(),\n",
    "                              y2.packed_accessor32<scalar_t, 1>(),\n",
    "                              w2.packed_accessor32<scalar_t, 1>(),\n",
    "                              h2.packed_accessor32<scalar_t, 1>());\n",
    "    });\n",
    "  } else {\n",
    "    AT_DISPATCH_FLOATING_TYPES(x1.type(), \"iou\", [&] {\n",
    "      iou_kernel_cpu<scalar_t>(x1.size(0),\n",
    "                              res.data_ptr<scalar_t>(),\n",
    "                              x1.data_ptr<scalar_t>(),\n",
    "                              y1.data_ptr<scalar_t>(),\n",
    "                              w1.data_ptr<scalar_t>(),\n",
    "                              h1.data_ptr<scalar_t>(),\n",
    "                              x2.data_ptr<scalar_t>(),\n",
    "                              y2.data_ptr<scalar_t>(),\n",
    "                              w2.data_ptr<scalar_t>(),\n",
    "                              h2.data_ptr<scalar_t>());\n",
    "    });  \n",
    "  }\n",
    "  return res;\n",
    "}\n",
    "\n",
    "PYBIND11_MODULE(TORCH_EXTENSION_NAME, m) {\n",
    "  m.def(\"iou_forward\", &iou_forward, \"Intersection over union\");\n",
    "}\n",
    "\"\"\"\n",
    "\n",
    "iou_kernel = torch.utils.cpp_extension.load_inline(\"iou_kernel\", \"\", csrc, is_python_module=True)#, verbose=True)\n"
   ]
  },
  {
   "cell_type": "markdown",
   "metadata": {
    "slideshow": {
     "slide_type": "slide"
    }
   },
   "source": [
    "# Ooofff....\n",
    "\n",
    "but it works and now the speed is OK!\n",
    "\n",
    "(By the way: `PackedTensorAccessors` are the closest thing to using tensor indexing in kernels.)\n"
   ]
  },
  {
   "cell_type": "code",
   "execution_count": 9,
   "metadata": {},
   "outputs": [
    {
     "name": "stdout",
     "output_type": "stream",
     "text": [
      "check gpu tensor(1.7881e-07, device='cuda:0')\n",
      "check cpu tensor(0.)\n",
      "15.3 µs ± 138 ns per loop (mean ± std. dev. of 7 runs, 100000 loops each)\n",
      "84.7 µs ± 110 ns per loop (mean ± std. dev. of 7 runs, 10000 loops each)\n"
     ]
    }
   ],
   "source": [
    "x1, y1, w1, h1, x2, y2, w2, h2 = [t.view(-1) for t in [x1, y1, w1, h1, x2, y2, w2, h2]]\n",
    "\n",
    "print (\"check gpu\", (ratio_iou(x1, y1, w1, h1, x2, y2, w2, h2)-iou_kernel.iou_forward(x1, y1, w1, h1, x2, y2, w2, h2)).abs().max())\n",
    "print (\"check cpu\", (ratio_iou(x1, y1, w1, h1, x2, y2, w2, h2).cpu()\n",
    "                     -iou_kernel.iou_forward(x1.cpu(), y1.cpu(), w1.cpu(), h1.cpu(),\n",
    "                                             x2.cpu(), y2.cpu(), w2.cpu(), h2.cpu())).abs().max())\n",
    "\n",
    "\n",
    "torch.cuda.synchronize()\n",
    "%timeit taketime(iou_kernel.iou_forward)\n",
    "%timeit taketime(ratio_iou)"
   ]
  },
  {
   "cell_type": "markdown",
   "metadata": {},
   "source": [
    "And now homework! Do the backward... a lot of work, you say?"
   ]
  },
  {
   "cell_type": "markdown",
   "metadata": {
    "slideshow": {
     "slide_type": "slide"
    }
   },
   "source": [
    "## Holistic Optimizations - JIT fusers\n",
    "\n",
    "So currently the fuser is a hotspot of development, look at the competition. We'll use the default `fuser1` here."
   ]
  },
  {
   "cell_type": "code",
   "execution_count": 10,
   "metadata": {
    "slideshow": {
     "slide_type": "-"
    }
   },
   "outputs": [
    {
     "name": "stdout",
     "output_type": "stream",
     "text": [
      "Help on function fuser in module torch.jit._fuser:\n",
      "\n",
      "fuser(name)\n",
      "    A context manager that facilitates switching between\n",
      "    backend fusers.\n",
      "    \n",
      "    Valid names:\n",
      "    * ``fuser0`` - enables only legacy fuser\n",
      "    * ``fuser1`` - enables only NNC\n",
      "    * ``fuser2`` - enables only nvFuser\n",
      "\n"
     ]
    }
   ],
   "source": [
    "help(torch.jit.fuser)"
   ]
  },
  {
   "cell_type": "markdown",
   "metadata": {
    "slideshow": {
     "slide_type": "slide"
    }
   },
   "source": [
    "# Intersection over Union with the JIT\n",
    "\n",
    "\n",
    "Can we have this easier?\n",
    "Many elementwise operations. Usually PyTorch executes them one by one, reading input from memory and writing back outputs.\n",
    "\n",
    "We can let PyTorch fuse these into a single GPU kernel, we can save all that."
   ]
  },
  {
   "cell_type": "code",
   "execution_count": 11,
   "metadata": {
    "slideshow": {
     "slide_type": "-"
    }
   },
   "outputs": [],
   "source": [
    "@torch.jit.script\n",
    "def ratio_iou_scripted(x1, y1, w1, h1, x2, y2, w2, h2):\n",
    "    xi = torch.max(x1, x2)                                # Intersection (yi similarly)\n",
    "    yi = torch.max(y1, y2)                                # Intersection (yi similarly)\n",
    "    wi = torch.clamp(torch.min(x1+w1, x2+w2) - xi, min=0)\n",
    "    hi = torch.clamp(torch.min(y1+h1, y2+h2) - yi, min=0)\n",
    "    area_i = wi * hi                                      # Area Intersection\n",
    "    area_u = w1 * h1 + w2 * h2 - wi * hi                  # Area Union\n",
    "    return area_i / torch.clamp(area_u, min=1e-5)\n"
   ]
  },
  {
   "cell_type": "markdown",
   "metadata": {
    "slideshow": {
     "slide_type": "slide"
    }
   },
   "source": [
    "This gives us a good speedup:"
   ]
  },
  {
   "cell_type": "code",
   "execution_count": 13,
   "metadata": {
    "slideshow": {
     "slide_type": "-"
    }
   },
   "outputs": [
    {
     "name": "stdout",
     "output_type": "stream",
     "text": [
      "85.8 µs ± 123 ns per loop (mean ± std. dev. of 7 runs, 10000 loops each)\n",
      "13.6 µs ± 180 ns per loop (mean ± std. dev. of 7 runs, 100000 loops each)\n"
     ]
    }
   ],
   "source": [
    "x1, y1, w1, h1, x2, y2, w2, h2 = torch.randn(8, 100, 1000, device='cuda').exp()\n",
    "\n",
    "def take_time(fn):\n",
    "    _ = fn(x1, y1, w1, h1, x2, y2, w2, h2)\n",
    "    torch.cuda.synchronize()\n",
    "\n",
    "take_time(ratio_iou) # warmup\n",
    "%timeit take_time(ratio_iou)\n",
    "\n",
    "take_time(ratio_iou_scripted)\n",
    "take_time(ratio_iou_scripted)\n",
    "%timeit take_time(ratio_iou_scripted)"
   ]
  },
  {
   "cell_type": "markdown",
   "metadata": {
    "slideshow": {
     "slide_type": "slide"
    }
   },
   "source": [
    "We can see in the graph specialised for the inputs which operations are fused:"
   ]
  },
  {
   "cell_type": "code",
   "execution_count": 9,
   "metadata": {
    "scrolled": true,
    "slideshow": {
     "slide_type": "-"
    }
   },
   "outputs": [
    {
     "data": {
      "text/plain": [
       "graph(%x1.1 : Tensor,\n",
       "      %y1.1 : Tensor,\n",
       "      %w1.1 : Tensor,\n",
       "      %h1.1 : Tensor,\n",
       "      %x2.1 : Tensor,\n",
       "      %y2.1 : Tensor,\n",
       "      %w2.1 : Tensor,\n",
       "      %h2.1 : Tensor):\n",
       "  %8 : Float(100, 1000, strides=[1000, 1], requires_grad=0, device=cuda:0), %9 : Float(100, 1000, strides=[1000, 1], requires_grad=0, device=cuda:0), %10 : Float(100, 1000, strides=[1000, 1], requires_grad=0, device=cuda:0), %11 : Float(100, 1000, strides=[1000, 1], requires_grad=0, device=cuda:0), %12 : Float(100, 1000, strides=[1000, 1], requires_grad=0, device=cuda:0), %13 : Float(100, 1000, strides=[1000, 1], requires_grad=0, device=cuda:0), %14 : Float(100, 1000, strides=[1000, 1], requires_grad=0, device=cuda:0), %15 : Float(100, 1000, strides=[1000, 1], requires_grad=0, device=cuda:0), %16 : bool = prim::TypeCheck[types=[Float(100, 1000, strides=[1000, 1], requires_grad=0, device=cuda:0), Float(100, 1000, strides=[1000, 1], requires_grad=0, device=cuda:0), Float(100, 1000, strides=[1000, 1], requires_grad=0, device=cuda:0), Float(100, 1000, strides=[1000, 1], requires_grad=0, device=cuda:0), Float(100, 1000, strides=[1000, 1], requires_grad=0, device=cuda:0), Float(100, 1000, strides=[1000, 1], requires_grad=0, device=cuda:0), Float(100, 1000, strides=[1000, 1], requires_grad=0, device=cuda:0), Float(100, 1000, strides=[1000, 1], requires_grad=0, device=cuda:0)]](%w2.1, %h2.1, %w1.1, %h1.1, %y2.1, %y1.1, %x2.1, %x1.1)\n",
       "  %17 : Tensor = prim::If(%16)\n",
       "    block0():\n",
       "      %18 : Float(100, 1000, strides=[1000, 1], requires_grad=0, device=cuda:0) = prim::TensorExprGroup_0(%8, %9, %10, %11, %12, %13, %14, %15)\n",
       "      -> (%18)\n",
       "    block1():\n",
       "      %19 : Function = prim::Constant[name=\"fallback_function\", fallback=1]()\n",
       "      %20 : (Tensor) = prim::CallFunction(%19, %w2.1, %h2.1, %w1.1, %h1.1, %y2.1, %y1.1, %x2.1, %x1.1)\n",
       "      %21 : Tensor = prim::TupleUnpack(%20)\n",
       "      -> (%21)\n",
       "  return (%17)\n",
       "with prim::TensorExprGroup_0 = graph(%w2.1 : Float(100, 1000, strides=[1000, 1], requires_grad=0, device=cuda:0),\n",
       "      %h2.1 : Float(100, 1000, strides=[1000, 1], requires_grad=0, device=cuda:0),\n",
       "      %w1.1 : Float(100, 1000, strides=[1000, 1], requires_grad=0, device=cuda:0),\n",
       "      %h1.1 : Float(100, 1000, strides=[1000, 1], requires_grad=0, device=cuda:0),\n",
       "      %y2.1 : Float(100, 1000, strides=[1000, 1], requires_grad=0, device=cuda:0),\n",
       "      %y1.1 : Float(100, 1000, strides=[1000, 1], requires_grad=0, device=cuda:0),\n",
       "      %x2.1 : Float(100, 1000, strides=[1000, 1], requires_grad=0, device=cuda:0),\n",
       "      %x1.1 : Float(100, 1000, strides=[1000, 1], requires_grad=0, device=cuda:0)):\n",
       "  %8 : float = prim::Constant[value=1.0000000000000001e-05]()\n",
       "  %9 : NoneType = prim::Constant()\n",
       "  %10 : int = prim::Constant[value=0]()\n",
       "  %11 : int = prim::Constant[value=1]()\n",
       "  %xi.2 : Float(100, 1000, strides=[1000, 1], requires_grad=0, device=cuda:0) = aten::max(%x1.1, %x2.1) # <ipython-input-5-5fb00890f03c>:2:9\n",
       "  %yi.2 : Float(100, 1000, strides=[1000, 1], requires_grad=0, device=cuda:0) = aten::max(%y1.1, %y2.1) # <ipython-input-5-5fb00890f03c>:3:9\n",
       "  %14 : Float(100, 1000, strides=[1000, 1], requires_grad=0, device=cuda:0) = aten::add(%x1.1, %w1.1, %11) # <ipython-input-5-5fb00890f03c>:4:31\n",
       "  %15 : Float(100, 1000, strides=[1000, 1], requires_grad=0, device=cuda:0) = aten::add(%x2.1, %w2.1, %11) # <ipython-input-5-5fb00890f03c>:4:38\n",
       "  %16 : Float(100, 1000, strides=[1000, 1], requires_grad=0, device=cuda:0) = aten::min(%14, %15) # <ipython-input-5-5fb00890f03c>:4:21\n",
       "  %17 : Float(100, 1000, strides=[1000, 1], requires_grad=0, device=cuda:0) = aten::sub(%16, %xi.2, %11) # <ipython-input-5-5fb00890f03c>:4:21\n",
       "  %wi.2 : Float(100, 1000, strides=[1000, 1], requires_grad=0, device=cuda:0) = aten::clamp(%17, %10, %9) # <ipython-input-5-5fb00890f03c>:4:9\n",
       "  %19 : Float(100, 1000, strides=[1000, 1], requires_grad=0, device=cuda:0) = aten::add(%y1.1, %h1.1, %11) # <ipython-input-5-5fb00890f03c>:5:31\n",
       "  %20 : Float(100, 1000, strides=[1000, 1], requires_grad=0, device=cuda:0) = aten::add(%y2.1, %h2.1, %11) # <ipython-input-5-5fb00890f03c>:5:38\n",
       "  %21 : Float(100, 1000, strides=[1000, 1], requires_grad=0, device=cuda:0) = aten::min(%19, %20) # <ipython-input-5-5fb00890f03c>:5:21\n",
       "  %22 : Float(100, 1000, strides=[1000, 1], requires_grad=0, device=cuda:0) = aten::sub(%21, %yi.2, %11) # <ipython-input-5-5fb00890f03c>:5:21\n",
       "  %hi.2 : Float(100, 1000, strides=[1000, 1], requires_grad=0, device=cuda:0) = aten::clamp(%22, %10, %9) # <ipython-input-5-5fb00890f03c>:5:9\n",
       "  %area_i.2 : Float(100, 1000, strides=[1000, 1], requires_grad=0, device=cuda:0) = aten::mul(%wi.2, %hi.2) # <ipython-input-5-5fb00890f03c>:6:13\n",
       "  %25 : Float(100, 1000, strides=[1000, 1], requires_grad=0, device=cuda:0) = aten::mul(%w1.1, %h1.1) # <ipython-input-5-5fb00890f03c>:7:13\n",
       "  %26 : Float(100, 1000, strides=[1000, 1], requires_grad=0, device=cuda:0) = aten::mul(%w2.1, %h2.1) # <ipython-input-5-5fb00890f03c>:7:23\n",
       "  %27 : Float(100, 1000, strides=[1000, 1], requires_grad=0, device=cuda:0) = aten::add(%25, %26, %11) # <ipython-input-5-5fb00890f03c>:7:13\n",
       "  %area_u.2 : Float(100, 1000, strides=[1000, 1], requires_grad=0, device=cuda:0) = aten::sub(%27, %area_i.2, %11) # <ipython-input-5-5fb00890f03c>:7:13\n",
       "  %29 : Float(100, 1000, strides=[1000, 1], requires_grad=0, device=cuda:0) = aten::clamp(%area_u.2, %8, %9) # <ipython-input-5-5fb00890f03c>:8:20\n",
       "  %30 : Float(100, 1000, strides=[1000, 1], requires_grad=0, device=cuda:0) = aten::div(%area_i.2, %29) # <ipython-input-5-5fb00890f03c>:8:11\n",
       "  return (%30)"
      ]
     },
     "execution_count": 9,
     "metadata": {},
     "output_type": "execute_result"
    }
   ],
   "source": [
    "ratio_iou_scripted.graph_for(x1, y1, w1, h1, x2, y2, w2, h2)"
   ]
  },
  {
   "cell_type": "markdown",
   "metadata": {
    "slideshow": {
     "slide_type": "slide"
    }
   },
   "source": [
    "# Other optimization options\n",
    "\n",
    "We can export to optimized or optimization frameworks\n",
    "  - ONNXRuntime\n",
    "  - Apache TVM\n",
    "  - TensorRT/TRTorch\n",
    "\n",
    "these share some properties:\n",
    "- work best for inference, but increasingly also for training,\n",
    "- often use the JIT representation (TorchScript) as format, with ONNXRuntime using ONNX as an additional step,\n",
    "- there is a push into integrating optimized parts back into PyTorch.\n",
    " \n",
    "Other option: manually implement kernels\n",
    " - a lot of work,\n",
    " - sometimes the most realistic option when you have very complex algorithms."
   ]
  },
  {
   "cell_type": "markdown",
   "metadata": {
    "slideshow": {
     "slide_type": "slide"
    }
   },
   "source": [
    "# TVM Live-Demo"
   ]
  },
  {
   "cell_type": "markdown",
   "metadata": {
    "slideshow": {
     "slide_type": "slide"
    }
   },
   "source": [
    "# Part III: After training our model, are we done?\n",
    "\n",
    "### Aspects of deployment and the model lifecycle\n",
    "\n",
    "  - The PyTorch JIT for export\n",
    "  - Keeping an eye on your model: Drift detection\n",
    "    - Why, what, how\n",
    "    - Better drift detection\n",
    "\n",
    "  "
   ]
  },
  {
   "cell_type": "markdown",
   "metadata": {
    "slideshow": {
     "slide_type": "slide"
    }
   },
   "source": [
    "# More PyTorch JIT\n",
    "\n",
    "\n",
    "So if we have our model in PyTorch. Can we export it?\n",
    "\n",
    "This is where the PyTorch Just-In-Time compiler comes into play. It provides a graphical representation \n",
    "called _TorchScript_  (used somewhat synonymously for the language and the representation).\n",
    "\n",
    "There are two main ways to get a TorchScript graph:\n",
    "- scripting and\n",
    "- tracing.\n",
    "\n",
    "We'll look at these in some detail."
   ]
  },
  {
   "cell_type": "markdown",
   "metadata": {
    "slideshow": {
     "slide_type": "slide"
    }
   },
   "source": [
    "## Scripting\n",
    "\n",
    "Scripting compiles (mostly) a subset of Python.\n",
    "It takes the Python source code and transforms it. \n",
    "\"Here is what the function should do\", just like normal programming."
   ]
  },
  {
   "cell_type": "code",
   "execution_count": 57,
   "metadata": {
    "slideshow": {
     "slide_type": "-"
    }
   },
   "outputs": [],
   "source": [
    "@torch.jit.script\n",
    "def fn(x):\n",
    "    return x * 2"
   ]
  },
  {
   "cell_type": "code",
   "execution_count": 58,
   "metadata": {},
   "outputs": [
    {
     "data": {
      "text/plain": [
       "(<torch.jit.ScriptFunction at 0x7f65d43b2220>,\n",
       " graph(%x.1 : Tensor):\n",
       "   %2 : int = prim::Constant[value=2]() # <ipython-input-57-6dcc6c3c1c8e>:3:15\n",
       "   %3 : Tensor = aten::mul(%x.1, %2) # <ipython-input-57-6dcc6c3c1c8e>:3:11\n",
       "   return (%3))"
      ]
     },
     "execution_count": 58,
     "metadata": {},
     "output_type": "execute_result"
    }
   ],
   "source": [
    "fn, fn.graph"
   ]
  },
  {
   "cell_type": "markdown",
   "metadata": {
    "slideshow": {
     "slide_type": "slide"
    }
   },
   "source": [
    "### Tracing\n",
    "\n",
    "Tracing runs the code and observers the calls into PyTorch with some sample input.\n",
    "\"Watch me, now you know how to do the same.\""
   ]
  },
  {
   "cell_type": "code",
   "execution_count": 59,
   "metadata": {
    "slideshow": {
     "slide_type": "-"
    }
   },
   "outputs": [
    {
     "name": "stdout",
     "output_type": "stream",
     "text": [
      "graph(%x : Float(5:1)):\n",
      "  %1 : Long() = prim::Constant[value={2}]() # <ipython-input-59-7d43d0af2e80>:2:0\n",
      "  %2 : Float(5:1) = aten::mul(%x, %1) # <ipython-input-59-7d43d0af2e80>:2:0\n",
      "  return (%2)\n",
      " def fn(x: Tensor) -> Tensor:\n",
      "  return torch.mul(x, CONSTANTS.c0)\n",
      "\n"
     ]
    }
   ],
   "source": [
    "def fn(x):\n",
    "    return x * 2\n",
    "fn = torch.jit.trace(fn, [torch.randn(5)])\n",
    "\n",
    "print(fn.graph, fn.code)"
   ]
  },
  {
   "cell_type": "markdown",
   "metadata": {
    "slideshow": {
     "slide_type": "-"
    }
   },
   "source": [
    "N.B.: The specialization for the Tensor shape isn't relevant here and will be erased e.g. during saving of the model."
   ]
  },
  {
   "cell_type": "markdown",
   "metadata": {
    "slideshow": {
     "slide_type": "slide"
    }
   },
   "source": [
    "### TorchScript\n",
    "\n",
    "One important difference between TorchScript and Python is that in TorchScript everything is typed. Important\n",
    "types are\n",
    "- `bool`, `int`, `long`, `double` for numbers (int = 32 bit integer, long = 64 bit integer)\n",
    "- `Tensor` for tensors (of arbitrary shape, dtype, ...)\n",
    "- `List[T]` a list with elements fo type T (one of the above)\n",
    "- Tuples are of fixed size with arbitrary but fixed element type, so e.g. `Tuple(Tensor, int)`.\n",
    "- `Optional[T]` for things that can be `None`\n",
    "\n",
    "`None` always is of type `Optional[T]` for some specific `T` (except in the rarest circumstances).\n",
    "\n",
    "PyTorch will mostly infer the intermediate and return types, but you need to annotate any non-Tensor inputs."
   ]
  },
  {
   "cell_type": "markdown",
   "metadata": {
    "slideshow": {
     "slide_type": "slide"
    }
   },
   "source": [
    "### Tracing vs. Scripting\n",
    "\n",
    "Scripting will process all code but may not understand all. This means it captures all constructs (like control flow) it understands, but it will fail if it doesn't understand something.\n",
    "\n",
    "Tracing doesn't see anything not calling into PyTorch and will happily ignore that (e.g. control flow). This is also the reason why it will loudly complain if you have non-tensor inputs.\n"
   ]
  },
  {
   "cell_type": "code",
   "execution_count": 60,
   "metadata": {
    "slideshow": {
     "slide_type": "-"
    }
   },
   "outputs": [],
   "source": [
    "def fn(x):\n",
    "    for i in range(x.dim()):\n",
    "        x = x * x\n",
    "    return x\n",
    "\n",
    "script_fn = torch.jit.script(fn)\n",
    "trace_fn = torch.jit.trace(fn, [torch.randn(5, 5)])"
   ]
  },
  {
   "cell_type": "code",
   "execution_count": 61,
   "metadata": {
    "slideshow": {
     "slide_type": "slide"
    }
   },
   "outputs": [
    {
     "name": "stdout",
     "output_type": "stream",
     "text": [
      "def fn(x: Tensor) -> Tensor:\n",
      "  x0 = x\n",
      "  for i in range(torch.dim(x)):\n",
      "    x0 = torch.mul(x0, x0)\n",
      "  return x0\n",
      "\n"
     ]
    }
   ],
   "source": [
    "print(script_fn.code)"
   ]
  },
  {
   "cell_type": "code",
   "execution_count": 62,
   "metadata": {
    "slideshow": {
     "slide_type": "-"
    }
   },
   "outputs": [
    {
     "name": "stdout",
     "output_type": "stream",
     "text": [
      "def fn(x: Tensor) -> Tensor:\n",
      "  x0 = torch.mul(x, x)\n",
      "  return torch.mul(x0, x0)\n",
      "\n"
     ]
    }
   ],
   "source": [
    "print(trace_fn.code)"
   ]
  },
  {
   "cell_type": "markdown",
   "metadata": {
    "slideshow": {
     "slide_type": "slide"
    }
   },
   "source": [
    "## Tracing and Scripting Modules\n",
    "\n",
    "But our models often are not functions. What now?\n",
    "\n",
    "With tracing, we can work just like with functions. We get a `ScriptModule` subclass that behaves much like a\n",
    "`Module` with parameters, state dict etc."
   ]
  },
  {
   "cell_type": "code",
   "execution_count": 63,
   "metadata": {},
   "outputs": [
    {
     "data": {
      "text/plain": [
       "(torch.jit._trace.TopLevelTracedModule,\n",
       " Sequential(\n",
       "   original_name=Sequential\n",
       "   (0): Linear(original_name=Linear)\n",
       "   (1): Tanh(original_name=Tanh)\n",
       "   (2): Linear(original_name=Linear)\n",
       " ))"
      ]
     },
     "execution_count": 63,
     "metadata": {},
     "output_type": "execute_result"
    }
   ],
   "source": [
    "traced_model = torch.jit.trace(model, [torch.randn(8, 1)])\n",
    "type(traced_model), traced_model"
   ]
  },
  {
   "cell_type": "markdown",
   "metadata": {
    "slideshow": {
     "slide_type": "slide"
    }
   },
   "source": [
    "Saving is a bit different, here we include the model on purpose:"
   ]
  },
  {
   "cell_type": "code",
   "execution_count": 64,
   "metadata": {},
   "outputs": [
    {
     "data": {
      "text/plain": [
       "tensor([[-0.8112],\n",
       "        [ 0.3232],\n",
       "        [ 0.7830],\n",
       "        [-0.8254],\n",
       "        [ 0.7857],\n",
       "        [-0.3138],\n",
       "        [-0.7612],\n",
       "        [ 0.5701]], grad_fn=<DifferentiableGraphBackward>)"
      ]
     },
     "execution_count": 64,
     "metadata": {},
     "output_type": "execute_result"
    }
   ],
   "source": [
    "traced_model.save('./traced_model.pt')\n",
    "loaded_model = torch.jit.load('./traced_model.pt')\n",
    "\n",
    "loaded_model(torch.randn(8,1))"
   ]
  },
  {
   "cell_type": "markdown",
   "metadata": {
    "slideshow": {
     "slide_type": "slide"
    }
   },
   "source": [
    "# Scripting Modules\n",
    "\n",
    "Scripting modules is ... a bit tricky. We don't script the class in its entirety but instead take an instance (in particular past `__init__`) and process its data members and methods (the latters work like script functions)."
   ]
  },
  {
   "cell_type": "code",
   "execution_count": 65,
   "metadata": {},
   "outputs": [
    {
     "name": "stdout",
     "output_type": "stream",
     "text": [
      "def forward(self,\n",
      "    input: Tensor) -> Tensor:\n",
      "  _0 = getattr(self, \"0\")\n",
      "  _1 = getattr(self, \"1\")\n",
      "  _2 = getattr(self, \"2\")\n",
      "  input0 = (_0).forward(input, )\n",
      "  input1 = (_1).forward(input0, )\n",
      "  return (_2).forward(input1, )\n",
      "\n"
     ]
    }
   ],
   "source": [
    "scripted_model = torch.jit.script(model)\n",
    "print(scripted_model.code)"
   ]
  },
  {
   "cell_type": "markdown",
   "metadata": {
    "slideshow": {
     "slide_type": "slide"
    }
   },
   "source": [
    "We can also look at the graph including submodules, but it gets unwieldy rather fast:"
   ]
  },
  {
   "cell_type": "code",
   "execution_count": 66,
   "metadata": {},
   "outputs": [
    {
     "data": {
      "text/plain": [
       "graph(%self : __torch__.torch.nn.modules.container.___torch_mangle_13.Sequential,\n",
       "      %input.1 : Tensor):\n",
       "  %2 : __torch__.torch.nn.modules.linear.___torch_mangle_10.Linear = prim::GetAttr[name=\"0\"](%self)\n",
       "  %3 : __torch__.torch.nn.modules.activation.___torch_mangle_11.Tanh = prim::GetAttr[name=\"1\"](%self)\n",
       "  %4 : __torch__.torch.nn.modules.linear.___torch_mangle_12.Linear = prim::GetAttr[name=\"2\"](%self)\n",
       "  %8 : int = prim::Constant[value=1]()\n",
       "  %9 : int = prim::Constant[value=2]() # /usr/local/lib/python3.8/dist-packages/torch/nn/functional.py:1672:22\n",
       "  %10 : Tensor = prim::GetAttr[name=\"weight\"](%2)\n",
       "  %11 : Tensor = prim::GetAttr[name=\"bias\"](%2)\n",
       "  %12 : int = aten::dim(%input.1) # /usr/local/lib/python3.8/dist-packages/torch/nn/functional.py:1672:7\n",
       "  %13 : bool = aten::eq(%12, %9) # /usr/local/lib/python3.8/dist-packages/torch/nn/functional.py:1672:7\n",
       "  %input.3 : Tensor = prim::If(%13) # /usr/local/lib/python3.8/dist-packages/torch/nn/functional.py:1672:4\n",
       "    block0():\n",
       "      %15 : Tensor = aten::t(%10) # /usr/local/lib/python3.8/dist-packages/torch/nn/functional.py:1674:39\n",
       "      %ret.2 : Tensor = aten::addmm(%11, %input.1, %15, %8, %8) # /usr/local/lib/python3.8/dist-packages/torch/nn/functional.py:1674:14\n",
       "      -> (%ret.2)\n",
       "    block1():\n",
       "      %17 : Tensor = aten::t(%10) # /usr/local/lib/python3.8/dist-packages/torch/nn/functional.py:1676:30\n",
       "      %output.2 : Tensor = aten::matmul(%input.1, %17) # /usr/local/lib/python3.8/dist-packages/torch/nn/functional.py:1676:17\n",
       "      %output.4 : Tensor = aten::add_(%output.2, %11, %8) # /usr/local/lib/python3.8/dist-packages/torch/nn/functional.py:1678:12\n",
       "      -> (%output.4)\n",
       "  %input.5 : Tensor = aten::tanh(%input.3) # /usr/local/lib/python3.8/dist-packages/torch/nn/modules/activation.py:350:15\n",
       "  %21 : int = prim::Constant[value=1]()\n",
       "  %22 : int = prim::Constant[value=2]() # /usr/local/lib/python3.8/dist-packages/torch/nn/functional.py:1672:22\n",
       "  %23 : Tensor = prim::GetAttr[name=\"weight\"](%4)\n",
       "  %24 : Tensor = prim::GetAttr[name=\"bias\"](%4)\n",
       "  %25 : int = aten::dim(%input.5) # /usr/local/lib/python3.8/dist-packages/torch/nn/functional.py:1672:7\n",
       "  %26 : bool = aten::eq(%25, %22) # /usr/local/lib/python3.8/dist-packages/torch/nn/functional.py:1672:7\n",
       "  %input.7 : Tensor = prim::If(%26) # /usr/local/lib/python3.8/dist-packages/torch/nn/functional.py:1672:4\n",
       "    block0():\n",
       "      %28 : Tensor = aten::t(%23) # /usr/local/lib/python3.8/dist-packages/torch/nn/functional.py:1674:39\n",
       "      %ret.1 : Tensor = aten::addmm(%24, %input.5, %28, %21, %21) # /usr/local/lib/python3.8/dist-packages/torch/nn/functional.py:1674:14\n",
       "      -> (%ret.1)\n",
       "    block1():\n",
       "      %30 : Tensor = aten::t(%23) # /usr/local/lib/python3.8/dist-packages/torch/nn/functional.py:1676:30\n",
       "      %output.1 : Tensor = aten::matmul(%input.5, %30) # /usr/local/lib/python3.8/dist-packages/torch/nn/functional.py:1676:17\n",
       "      %output.3 : Tensor = aten::add_(%output.1, %24, %21) # /usr/local/lib/python3.8/dist-packages/torch/nn/functional.py:1678:12\n",
       "      -> (%output.3)\n",
       "  return (%input.7)"
      ]
     },
     "execution_count": 66,
     "metadata": {},
     "output_type": "execute_result"
    }
   ],
   "source": [
    "scripted_model.forward.inlined_graph"
   ]
  },
  {
   "cell_type": "markdown",
   "metadata": {
    "slideshow": {
     "slide_type": "slide"
    }
   },
   "source": [
    "# What can you do with scripted modules?\n",
    "\n",
    "- Run them as is, bypassing Python.\n",
    "  - not as much speedup as often is expected (maybe 5%-10% for some models I tested),\n",
    "  - but - sometimes crucially - it avoids the dreaded Python Global Interpreter Lock (GIL), so it is useful e.g.\n",
    "    for multithreaded things like serving PyTorch models.\n",
    "- Export and run in C++ / Mobile / ..., export to other frameworks like [TVM](https://tvm.ai/).\n"
   ]
  },
  {
   "cell_type": "markdown",
   "metadata": {
    "slideshow": {
     "slide_type": "slide"
    }
   },
   "source": [
    "# PyTorch is ... Pythonic, but not Python only\n",
    "\n",
    "\n",
    "<img src=\"Ch15_F4_PyTorch_calling_pytorch.svg\" style=\"float: right;\"/>\n",
    "\n",
    "When we looked at _PyTorch is functions_, we actually conflated PyTorch the interface and PyTorch the backend.\n",
    "\n",
    "The JIT was another way of accessing the backend.\n",
    "\n",
    "Looking closer, we have `libtorch` (the C++-implemented autograd-enabled backend) calling down into `ATen` for tensor operations and there the dispatching to ATen's own kernels or libraries.\n",
    "\n"
   ]
  },
  {
   "cell_type": "markdown",
   "metadata": {
    "slideshow": {
     "slide_type": "slide"
    }
   },
   "source": [
    "## Beyond Python\n",
    "\n",
    "\n",
    "<table>\n",
    "    <tr><td>\n",
    "We can also run our JITed models from C++ in a few lines of code or on mobile.\n",
    "\n",
    "The picture shows a CycleGAN running on PyTorch Mobile (from Chapter 15 of our book, just like the PyTorch sketch above).\n",
    "\n",
    "We also cover C++ there, but not now.\n",
    "        </td>\n",
    "        <td><img src=\"Ch15_F5_PyTorch_zebra_app.png\" width=\"40%\"/></td></tr>"
   ]
  },
  {
   "cell_type": "markdown",
   "metadata": {
    "slideshow": {
     "slide_type": "slide"
    }
   },
   "source": []
  },
  {
   "cell_type": "markdown",
   "metadata": {
    "slideshow": {
     "slide_type": "slide"
    }
   },
   "source": [
    "<center><img alt=\"Thank you\" src=\"thank_you.svg\" width=80% /></center>\n",
    "\n",
    "<center><img alt=\"Your questions and comments\" src=\"your_questions_and_comments.svg\" width=80%/></center>\n",
    "\n",
    "[Graves style Handwriting in PyTorch](https://github.com/t-vi/pytorch-tvmisc/blob/master/misc/graves_handwriting_generation.ipynb)\n",
    "\n",
    "# Contact: Thomas Viehmann, <https://lernapparat.de/>,  <tv@mathinf.eu>\n",
    "\n"
   ]
  },
  {
   "cell_type": "code",
   "execution_count": null,
   "metadata": {},
   "outputs": [],
   "source": []
  }
 ],
 "metadata": {
  "accelerator": "GPU",
  "celltoolbar": "Slideshow",
  "kernelspec": {
   "display_name": "Python 3",
   "language": "python",
   "name": "python3"
  },
  "language_info": {
   "codemirror_mode": {
    "name": "ipython",
    "version": 3
   },
   "file_extension": ".py",
   "mimetype": "text/x-python",
   "name": "python",
   "nbconvert_exporter": "python",
   "pygments_lexer": "ipython3",
   "version": "3.9.7"
  },
  "rise": {
   "header": "<img id='mathinf-logo-header' src='mathinf_logo.png' />",
   "theme": "white",
   "transition": "off"
  }
 },
 "nbformat": 4,
 "nbformat_minor": 4
}
